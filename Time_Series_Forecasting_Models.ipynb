{
  "nbformat": 4,
  "nbformat_minor": 0,
  "metadata": {
    "colab": {
      "name": "Time-Series-Forecasting-Models.ipynb",
      "version": "0.3.2",
      "provenance": []
    },
    "kernelspec": {
      "name": "python3",
      "display_name": "Python 3"
    }
  },
  "cells": [
    {
      "metadata": {
        "id": "Z1LtG7mOKvyG",
        "colab_type": "text"
      },
      "cell_type": "markdown",
      "source": [
        "# Time Series Forecasting Models: ETS and ARIMA\n",
        "\n",
        "In this post, you will learn the steps to create two different models for time series forecasting. Using these models, you will be able to make predictions for the future values of things like hotel bookings, product sales, and any other times series, using only historical data of that value. Let's get started!\n",
        "\n",
        "## ETS Models\n",
        "\n",
        "ETS stands for error, trend, and seasonality. ETS models break out the trend and seasonality components of the data. The trend and seasonality patterns are then projected into the future to create the forecasts. There are four major steps to creating a good ETS model:\n",
        "1. Create time series decomposition plot\n",
        "2. Determine error, trend, and seasonality\n",
        "3. Build and validate the ETS model\n",
        "4. Forecast\n",
        "\n",
        "Let's walk through the details of each step.\n",
        "\n",
        "### Create time series decomposition plot\n",
        "\n",
        "A time series decomposition plot allows you to visualize the trend, seasonality, and error of your original data. This visualization will aid in determing if you should use an additive or a multiplicative model, and if you have selected the right number of periods to capture the seasonality appropriately.\n",
        "\n",
        "We'll demonstrate the first step using champagne-sales.csv. This dataset is available through the Udacity Time Series Forecasting course ([its free](https://www.udacity.com/course/time-series-forecasting--ud980)).\n",
        "\n",
        "The Udacity class uses Alteryx for data analysis. We'll be doing everything in Python, so they way we build the models will be slightly different from the Udacity course.\n",
        "\n",
        "The statsmodels library has time series analysis tools that can create time series decomposition plots. When using the statsmodels decompose function, we need to specify whether to use an additive or a multiplicative model. An additive model means the errot, trend, and seasonality components are added together, while they are multiplied together for a multiplicative model.\n",
        "\n",
        "Additive: \n",
        "\n",
        "$ y = E_t + T_t + S_t $\n",
        "\n",
        "Multiplicative:\n",
        "\n",
        "$ y = E_t * T_t * S_t $\n",
        "\n",
        "We will compare the decomposition plots from the two model types in order to compete step two of the process."
      ]
    },
    {
      "metadata": {
        "id": "WCUVHtQ1ldTb",
        "colab_type": "code",
        "colab": {}
      },
      "cell_type": "code",
      "source": [
        "# load and setup data"
      ],
      "execution_count": 0,
      "outputs": []
    },
    {
      "metadata": {
        "id": "D41ZMK89ljnN",
        "colab_type": "code",
        "colab": {}
      },
      "cell_type": "code",
      "source": [
        "# create additive plot and multiplicative plot side by side"
      ],
      "execution_count": 0,
      "outputs": []
    },
    {
      "metadata": {
        "id": "uyFn6Gk0lnLL",
        "colab_type": "text"
      },
      "cell_type": "markdown",
      "source": [
        "### Determine error, trend and seasonality\n",
        "\n",
        "Comparing these decompositions plots, we notice that there is one big difference between them. The residual (error) plot at the bottom is much larger for the additive model. This means that the additive model is not able to adequately capture the time series characteristics. The multiplicative model is the better choice because it captures the trend and seasonality of the data with a low amount of residual error.\n",
        "\n",
        "In some instances, you will need to choose whether the error, trend, and seasonality should be additive, multiplicative (or even not included) individually. In that case, here's how you do it:\n",
        "\n",
        "If the trend plot is linear, apply it additively. If the trend line grows exponentially, apply it multiplicatively. If there is no clear trend, it can be removed from the model.\n",
        "\n",
        "If the seasonal plot peaks and valleys are constant over time, apply the seasonality component additively. If the seasonality component peaks and valleys grow or shrink over time, apply this component multiplicatively. If there is no seasonality component, it is not applied.\n",
        "\n",
        "We view the error term in a similar fashion as the seasonality term. If the variance of the peaks and valleys is steady over time, apply it additively. If the variance of the peaks and valleys grows or shrinks over time, apply it multiplicatively.\n",
        "\n",
        "Now that we have decided to use a multiplicative model, we can move on to step three.\n",
        "\n",
        "### Build and validate the model\n",
        "\n",
        "Now that we have determined the type of model to build, we can use statsmodels to do so. After we construct the model, we will compute performance metrics to describe the performance and allow us to compare the model to others we could build for this dataset.\n"
      ]
    },
    {
      "metadata": {
        "id": "O2-8ls2_tNFd",
        "colab_type": "code",
        "colab": {}
      },
      "cell_type": "code",
      "source": [
        "# build the model"
      ],
      "execution_count": 0,
      "outputs": []
    },
    {
      "metadata": {
        "id": "MiuhkdL-wFzh",
        "colab_type": "code",
        "colab": {}
      },
      "cell_type": "code",
      "source": [
        "# calculate metrics"
      ],
      "execution_count": 0,
      "outputs": []
    },
    {
      "metadata": {
        "id": "NNWEDpuQwH96",
        "colab_type": "text"
      },
      "cell_type": "markdown",
      "source": [
        "### Forecast"
      ]
    },
    {
      "metadata": {
        "id": "vQon7GA8wMy4",
        "colab_type": "code",
        "colab": {}
      },
      "cell_type": "code",
      "source": [
        "# predictions with holdout sample added back to the model\n",
        "# plot predictions with 95% CI"
      ],
      "execution_count": 0,
      "outputs": []
    }
  ]
}