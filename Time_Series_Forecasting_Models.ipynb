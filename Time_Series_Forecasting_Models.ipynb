{
  "nbformat": 4,
  "nbformat_minor": 0,
  "metadata": {
    "colab": {
      "name": "Time-Series-Forecasting-Models.ipynb",
      "version": "0.3.2",
      "provenance": [],
      "include_colab_link": true
    },
    "kernelspec": {
      "name": "python3",
      "display_name": "Python 3"
    }
  },
  "cells": [
    {
      "cell_type": "markdown",
      "metadata": {
        "id": "view-in-github",
        "colab_type": "text"
      },
      "source": [
        "[View in Colaboratory](https://colab.research.google.com/github/johnkmaxi/johnkmaxi.github.io/blob/master/Time_Series_Forecasting_Models.ipynb)"
      ]
    },
    {
      "metadata": {
        "id": "Z1LtG7mOKvyG",
        "colab_type": "text"
      },
      "cell_type": "markdown",
      "source": [
        "# Time Series Forecasting Models: ETS and ARIMA\n",
        "\n",
        "In this post, you will learn the steps to create two different models for time series forecasting. Using these models, you will be able to make predictions for the future values of things like hotel bookings, product sales, and any other times series, using only historical data of that value. Let's get started!\n",
        "\n",
        "## ETS Models\n",
        "\n",
        "ETS stands for error, trend, and seasonality. ETS models break out the trend and seasonality components of the data. The trend and seasonality patterns are then projected into the future to create the forecasts. There are four major steps to creating a good ETS model:\n",
        "1. Create time series decomposition plot\n",
        "2. Determine error, trend, and seasonality\n",
        "3. Build and validate the ETS model\n",
        "4. Forecast\n",
        "\n",
        "Let's walk through the details of each step.\n",
        "\n",
        "### Create time series decomposition plot\n",
        "\n",
        "A time series decomposition plot allows you to visualize the trend, seasonality, and error of your original data. This visualization will aid you in determing if you should use an additive or a multiplicative model, and if you have selected the right number of periods to capture the seasonality appropriately. "
      ]
    }
  ]
}