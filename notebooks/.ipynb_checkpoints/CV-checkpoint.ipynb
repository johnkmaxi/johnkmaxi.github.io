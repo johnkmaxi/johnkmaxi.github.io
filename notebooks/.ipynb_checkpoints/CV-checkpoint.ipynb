{
 "cells": [
  {
   "cell_type": "markdown",
   "metadata": {},
   "source": [
    "# CURRICULUM VITAE\n",
    "\n",
    "## John K. Maxi, PhD\n",
    "\n",
    "### Academic and Professional Appointments\n",
    "\n",
    "- Chief Research Officer, Alpha Computing, Inc.\n",
    "    - Developed algorithm for detecting engagement using a portable EEG headset\n",
    "    - Agile software development (Python)\n",
    "    - Data science (Python data science stack)\n",
    "    - Signal processing, time-series analysis\n",
    "    - Communication\n",
    "- Graduate Research Fellow, LSU Health Sciences Center, Department of Physiology\n",
    "    - Project: Alcohol and SIV: Interacting Mechanisms of Neurodegeneration.\n",
    "\n",
    "### Education\n",
    "\n",
    "- Ohio State University, Columbus, OH, BS Psychology\n",
    "- Louisiana State University Health Sciences Center, PhD Physiology\n",
    "- Udacity, Machine Learning Engineer, Nanodegree\n",
    " \n",
    "### Grant Funding\n",
    "\n",
    "- NSF: NCS-FO: A Mobile Brain-Computer Interface for Attention Detection in a Natural Classroom Environment (Submitted)\n",
    "- NIH/NIAAA: F31: Chronic Binge Alcohol and SIV: Interacting Mechanisms of Neurodegeneration (2015-2017)\n",
    "\n",
    "### Peer Reviewed Publications\n",
    "\n",
    "1. Maxi JK, Dean M, Zabaleta J, Reiss K, Bagby GJ, Nelson S, Winsauer PJ, Peruzzi F, Molina PE. Chronic Binge Alcohol Administration Dysregulates Hippocampal Genes Involved in Immunity and Neurogenesis in Simian Immunodeficiency Virus-Infected Macaques. Biomolecules. 2016 Nov; 6(4), 43; doi: 10.3390/biom6040043\n",
    "\n",
    "2. Mouton AJ, Maxi JK, Souza-Smith F, Bagby GJ, Molina PE, Gilpin NW, Gardner JD. Alcohol Vapor Inhalation as a Model of Alcohol-Induced Organ Disease. Alcohol Clinical and Experimental Research 2016 Jul 4. doi: 10.1111/acer.13133\n",
    "\n",
    "3. Teng XS, Katz PS, Maxi JK, Mayeux JP, Gilpin NW, Molina PE. Alcohol Exposure after Mild Focal Traumatic Brain Injury Impairs Neurological Recovery and Exacerbates Localized Neuroinflammation. Brain, Behavior, and Immunity.ï¿½ 2015 Mar; 45:145-56. doi:10.1016/j.bbi.2014.11.006\n",
    "\n",
    "4. Molina PE, Katz PS, Souza-Smith F, Ford SM, Teng XS, Dodd TY, Maxi JK, Mayeux JP. Alcohol ï¿½ Burden on immunity following burn, hemorrhagic shock, or traumatic brain injury. Alcohol Research: Current Reviews. 2015, 37:1\n",
    "\n",
    "### Leadership\n",
    "\n",
    "- President, Student Government Association, School of Graduate Studies, LSUHSC\n",
    "- Editor-in-Chief, The Healthy Balance newsletter LSUHSC"
   ]
  }
 ],
 "metadata": {
  "kernelspec": {
   "display_name": "Python 3",
   "language": "python",
   "name": "python3"
  },
  "language_info": {
   "codemirror_mode": {
    "name": "ipython",
    "version": 3
   },
   "file_extension": ".py",
   "mimetype": "text/x-python",
   "name": "python",
   "nbconvert_exporter": "python",
   "pygments_lexer": "ipython3",
   "version": "3.5.3"
  }
 },
 "nbformat": 4,
 "nbformat_minor": 2
}
