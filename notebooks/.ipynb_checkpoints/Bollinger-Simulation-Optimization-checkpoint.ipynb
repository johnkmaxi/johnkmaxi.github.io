{
 "cells": [
  {
   "cell_type": "code",
   "execution_count": 2,
   "metadata": {
    "collapsed": true
   },
   "outputs": [],
   "source": [
    "import quandlkey\n",
    " \n",
    "data = quandlkey.quandl_stocks('AAPL')"
   ]
  },
  {
   "cell_type": "code",
   "execution_count": 3,
   "metadata": {
    "collapsed": true
   },
   "outputs": [],
   "source": [
    "class BollingerBands:\n",
    "    \"\"\"A class to simulate a Bolliner Band trading strategy\n",
    "    :param: stock, pandas DateTime Series containing share prices\"\"\"\n",
    "    def __init__(self, stock, window=20, balance=3000, shares=0, sell_per=0.5, buy_amt=100, width=2, commission=10):\n",
    "        self.stock = stock # daily stock price\n",
    "        self.window = window # window size to compute rolling mean and Bollinger Bands\n",
    "        self.start_balance = balance # starting amount of cash\n",
    "        self.balance = balance # current cash balance\n",
    "        self.shares = shares # shares owned\n",
    "        self.commission = commission # amount I would need to pay a broker to execute the trade\n",
    "        self.sell_per = sell_per # % of shares to sell on each sell signal\n",
    "        self.buy_amt = buy_amt # $ amount of shares to buy on each buy signal\n",
    "        self.rmean = self.stock.rolling(self.window).mean() # the rolling mean stock price\n",
    "        self.upper = self.stock.rolling(self.window).mean() + width*self.stock.rolling(self.window).std() # upper band\n",
    "        self.lower = self.stock.rolling(self.window).mean() - width*self.stock.rolling(self.window).std() # lower band\n",
    "        self.results = pd.concat([self.stock.copy()]*4,axis=1) # create a dataframe to fill with results calculated later\n",
    "        self.results.columns = ['Balance','Shares','Profit','n_shares'] # the names of the results columns\n",
    "\n",
    "    def trade(self):\n",
    "        # simluate the trading strategy\n",
    "        for i in self.stock.index:\n",
    "            if self.stock.loc[i] > self.buy_amt:\n",
    "                self.buy_amt = self.buy_amt*2\n",
    "            if (self.stock.loc[i] > self.upper.loc[i]) and self.shares > 0:\n",
    "                # sell 50% of shares at the stock price\n",
    "                profit = self.stock.loc[i] * int(self.shares*self.sell_per) # calc sell profit\n",
    "                self.balance = self.balance + profit - self.commission# update balance and shares\n",
    "                self.shares = int(self.shares*self.sell_per)\n",
    "                self.results.loc[i,'Profit'] = profit\n",
    "                #print('SELL {} shares for ${:.2f}/share = {:.2f} profit'.format(self.shares,self.stock.loc[i],profit))\n",
    "            if self.stock.loc[i] < self.lower.loc[i]:\n",
    "                n_shares = int(self.buy_amt/self.stock.loc[i]) # how many shares can be bought\n",
    "                # make sure I can afford that many shares\n",
    "                if self.balance - self.commission - (n_shares*self.stock.loc[i]) < 0:\n",
    "                    n_shares = int((self.balance - self.commission)/self.stock.loc[i])\n",
    "                    #print(\"can't buy that many shares, buy as many as you can\")\n",
    "                #print('BUY ${} of shares for ${:.2f}/share = {} shares acquired'.format(self.buy_amt,self.stock.loc[i],n_shares))\n",
    "                if n_shares > 0:\n",
    "                    self.balance = self.balance - (n_shares*self.stock.loc[i]) - self.commission\n",
    "                    self.shares = self.shares + n_shares\n",
    "                self.results.loc[i,'n_shares'] = n_shares\n",
    "            self.results.loc[i,'Balance'] = self.balance\n",
    "            self.results.loc[i,'Shares'] = self.shares\n",
    "        #print(self.balance, self.shares)\n",
    "        \n",
    "    def buy_and_hold(self):\n",
    "        # calculate the cumulative return at each point in time\n",
    "        # how many shares can we buy at the beginning\n",
    "        n_shares = int(self.start_balance/self.stock.iloc[0])\n",
    "        # how much are those shares worth at the last time point\n",
    "        buyandhold = n_shares * self.stock\n",
    "        return buyandhold       "
   ]
  },
  {
   "cell_type": "code",
   "execution_count": 4,
   "metadata": {
    "collapsed": true
   },
   "outputs": [],
   "source": [
    "# pick a list of stocks to use in the simulation"
   ]
  },
  {
   "cell_type": "code",
   "execution_count": 5,
   "metadata": {
    "collapsed": true
   },
   "outputs": [],
   "source": [
    "# pick a date range for which the stocks are available, perhaps use relatively recent tiem frame, 3-5 years"
   ]
  },
  {
   "cell_type": "code",
   "execution_count": 6,
   "metadata": {
    "collapsed": true
   },
   "outputs": [],
   "source": [
    "# strategy\n",
    "#baseresults = []\n",
    "#myresults = []\n",
    "#params = []\n",
    "#company = []\n",
    "# hyperparameters = \n",
    "# for param in hyperparameters:\n",
    "    # for stock in stocks\n",
    "        # stock_data = quandlkey.quandl_stocks(stock)\n",
    "        # while sim_num < 100:\n",
    "            # start = stock_data['WIKI/{} - Adj. Close'.format(stock)].sample(1).index[0]\n",
    "            # end = stock_data['WIKI/{} - Adj. Close'.format(stock)][start:].sample(1).index[0]\n",
    "            # sim = BollingerBands(stock_data['WIKI/{} - Adj. Close'.format(stock)].loc[start:end], parameter=param)\n",
    "            #sim.trade()\n",
    "            #base = sim.buy_and_hold()\n",
    "            #baseresults.append(thisbaseline[-1])\n",
    "            #thisreturn = sim.results['Shares']*sim.stock+sim.results['Balance']\n",
    "            #myresults.append(thisreturn[-1])\n",
    "            #params.append(param)\n",
    "            #company.append(stock)\n",
    "        \n",
    "            #sim_num += 1"
   ]
  },
  {
   "cell_type": "code",
   "execution_count": null,
   "metadata": {
    "collapsed": true
   },
   "outputs": [],
   "source": [
    "#paramSim = pd.DataFrame({'Base':baseresults,'Maxi':myresults})\n",
    "# convert dollar returns to percentages\n",
    "#paramSim = (paramSim/500)-1 # 500 was the starting balance\n",
    "# use the describe function get some basic info\n",
    "#paramSim.describe()"
   ]
  }
 ],
 "metadata": {
  "kernelspec": {
   "display_name": "Python 3",
   "language": "python",
   "name": "python3"
  },
  "language_info": {
   "codemirror_mode": {
    "name": "ipython",
    "version": 3
   },
   "file_extension": ".py",
   "mimetype": "text/x-python",
   "name": "python",
   "nbconvert_exporter": "python",
   "pygments_lexer": "ipython3",
   "version": "3.5.3"
  }
 },
 "nbformat": 4,
 "nbformat_minor": 2
}
