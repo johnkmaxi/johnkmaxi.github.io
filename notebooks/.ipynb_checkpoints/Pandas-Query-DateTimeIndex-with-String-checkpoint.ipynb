{
 "cells": [
  {
   "cell_type": "markdown",
   "metadata": {},
   "source": [
    "# Convert strings to datetime for querying a Pandas DateTime index"
   ]
  },
  {
   "cell_type": "code",
   "execution_count": 1,
   "metadata": {
    "collapsed": true
   },
   "outputs": [],
   "source": [
    "data = pd.read_csv('data.csv', index_col=0)\n",
    "data.index = pd.to_datetime(data.index)"
   ]
  },
  {
   "cell_type": "code",
   "execution_count": 3,
   "metadata": {},
   "outputs": [
    {
     "data": {
      "text/html": [
       "<div>\n",
       "<style scoped>\n",
       "    .dataframe tbody tr th:only-of-type {\n",
       "        vertical-align: middle;\n",
       "    }\n",
       "\n",
       "    .dataframe tbody tr th {\n",
       "        vertical-align: top;\n",
       "    }\n",
       "\n",
       "    .dataframe thead th {\n",
       "        text-align: right;\n",
       "    }\n",
       "</style>\n",
       "<table border=\"1\" class=\"dataframe\">\n",
       "  <thead>\n",
       "    <tr style=\"text-align: right;\">\n",
       "      <th></th>\n",
       "      <th>Label</th>\n",
       "      <th>User ID</th>\n",
       "      <th>Engagement</th>\n",
       "    </tr>\n",
       "    <tr>\n",
       "      <th>Timestamp</th>\n",
       "      <th></th>\n",
       "      <th></th>\n",
       "      <th></th>\n",
       "    </tr>\n",
       "  </thead>\n",
       "  <tbody>\n",
       "    <tr>\n",
       "      <th>2018-05-14 10:40:15</th>\n",
       "      <td>None</td>\n",
       "      <td>None</td>\n",
       "      <td>-2.343828</td>\n",
       "    </tr>\n",
       "    <tr>\n",
       "      <th>2018-05-14 10:40:16</th>\n",
       "      <td>None</td>\n",
       "      <td>None</td>\n",
       "      <td>-14.431959</td>\n",
       "    </tr>\n",
       "    <tr>\n",
       "      <th>2018-05-14 10:40:16</th>\n",
       "      <td>None</td>\n",
       "      <td>None</td>\n",
       "      <td>39.127761</td>\n",
       "    </tr>\n",
       "    <tr>\n",
       "      <th>2018-05-14 10:40:17</th>\n",
       "      <td>None</td>\n",
       "      <td>None</td>\n",
       "      <td>16.067326</td>\n",
       "    </tr>\n",
       "    <tr>\n",
       "      <th>2018-05-14 10:40:18</th>\n",
       "      <td>None</td>\n",
       "      <td>None</td>\n",
       "      <td>9.930275</td>\n",
       "    </tr>\n",
       "  </tbody>\n",
       "</table>\n",
       "</div>"
      ],
      "text/plain": [
       "                    Label User ID  Engagement\n",
       "Timestamp                                    \n",
       "2018-05-14 10:40:15  None    None   -2.343828\n",
       "2018-05-14 10:40:16  None    None  -14.431959\n",
       "2018-05-14 10:40:16  None    None   39.127761\n",
       "2018-05-14 10:40:17  None    None   16.067326\n",
       "2018-05-14 10:40:18  None    None    9.930275"
      ]
     },
     "execution_count": 3,
     "metadata": {},
     "output_type": "execute_result"
    }
   ],
   "source": [
    "data.head()"
   ]
  },
  {
   "cell_type": "code",
   "execution_count": 4,
   "metadata": {},
   "outputs": [
    {
     "data": {
      "text/html": [
       "<div>\n",
       "<style scoped>\n",
       "    .dataframe tbody tr th:only-of-type {\n",
       "        vertical-align: middle;\n",
       "    }\n",
       "\n",
       "    .dataframe tbody tr th {\n",
       "        vertical-align: top;\n",
       "    }\n",
       "\n",
       "    .dataframe thead th {\n",
       "        text-align: right;\n",
       "    }\n",
       "</style>\n",
       "<table border=\"1\" class=\"dataframe\">\n",
       "  <thead>\n",
       "    <tr style=\"text-align: right;\">\n",
       "      <th></th>\n",
       "      <th>Label</th>\n",
       "      <th>User ID</th>\n",
       "      <th>Engagement</th>\n",
       "    </tr>\n",
       "    <tr>\n",
       "      <th>Timestamp</th>\n",
       "      <th></th>\n",
       "      <th></th>\n",
       "      <th></th>\n",
       "    </tr>\n",
       "  </thead>\n",
       "  <tbody>\n",
       "    <tr>\n",
       "      <th>2018-05-16 09:43:13</th>\n",
       "      <td>test</td>\n",
       "      <td>jkm</td>\n",
       "      <td>0.344</td>\n",
       "    </tr>\n",
       "    <tr>\n",
       "      <th>2018-05-16 09:43:14</th>\n",
       "      <td>test</td>\n",
       "      <td>jkm</td>\n",
       "      <td>0.372</td>\n",
       "    </tr>\n",
       "    <tr>\n",
       "      <th>2018-05-16 09:43:15</th>\n",
       "      <td>test</td>\n",
       "      <td>jkm</td>\n",
       "      <td>0.414</td>\n",
       "    </tr>\n",
       "    <tr>\n",
       "      <th>2018-05-16 09:43:16</th>\n",
       "      <td>test</td>\n",
       "      <td>jkm</td>\n",
       "      <td>0.630</td>\n",
       "    </tr>\n",
       "    <tr>\n",
       "      <th>2018-05-16 09:43:17</th>\n",
       "      <td>test</td>\n",
       "      <td>jkm</td>\n",
       "      <td>0.516</td>\n",
       "    </tr>\n",
       "  </tbody>\n",
       "</table>\n",
       "</div>"
      ],
      "text/plain": [
       "                    Label User ID  Engagement\n",
       "Timestamp                                    \n",
       "2018-05-16 09:43:13  test     jkm       0.344\n",
       "2018-05-16 09:43:14  test     jkm       0.372\n",
       "2018-05-16 09:43:15  test     jkm       0.414\n",
       "2018-05-16 09:43:16  test     jkm       0.630\n",
       "2018-05-16 09:43:17  test     jkm       0.516"
      ]
     },
     "execution_count": 4,
     "metadata": {},
     "output_type": "execute_result"
    }
   ],
   "source": [
    "import datetime\n",
    "session = datetime.datetime.strptime('2018-05-16', '%Y-%m-%d').date()\n",
    "data.loc[data.index.date==session].head()"
   ]
  }
 ],
 "metadata": {
  "kernelspec": {
   "display_name": "Python 3",
   "language": "python",
   "name": "python3"
  },
  "language_info": {
   "codemirror_mode": {
    "name": "ipython",
    "version": 3
   },
   "file_extension": ".py",
   "mimetype": "text/x-python",
   "name": "python",
   "nbconvert_exporter": "python",
   "pygments_lexer": "ipython3",
   "version": "3.5.3"
  }
 },
 "nbformat": 4,
 "nbformat_minor": 2
}
