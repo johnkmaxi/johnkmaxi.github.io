{
 "cells": [
  {
   "cell_type": "markdown",
   "metadata": {},
   "source": [
    "# Who had the larger vocabulary, Shakespeare or Dickens?\n",
    "\n",
    "Write a program that reads a file, breaks each line into words, strips whitespace and punctuation from the words, and converts them to lowercase. "
   ]
  },
  {
   "cell_type": "code",
   "execution_count": 21,
   "metadata": {
    "collapsed": true
   },
   "outputs": [],
   "source": [
    "import string"
   ]
  },
  {
   "cell_type": "code",
   "execution_count": 34,
   "metadata": {
    "collapsed": true
   },
   "outputs": [],
   "source": [
    "def word_getter(file):\n",
    "    \"\"\"Convert a text file into a list of words\"\"\"\n",
    "    words = [] # holds the list of words in the file\n",
    "    table = str.maketrans({key: None for key in string.punctuation}) # takes the punctuation out of strings\n",
    "    with open(file, 'r+') as f: # opens file\n",
    "        text = f.read() # reads it \n",
    "        text_list = text.split() # splits on whitespace\n",
    "        for w in text_list: # loop through all the words\n",
    "            w = w.lower() # make them lower case\n",
    "            w = w.translate(table) # remove punctuation\n",
    "            words.append(w) # add to list\n",
    "    return words"
   ]
  },
  {
   "cell_type": "code",
   "execution_count": 35,
   "metadata": {},
   "outputs": [
    {
     "data": {
      "text/plain": [
       "['this',\n",
       " 'is',\n",
       " 'a',\n",
       " 'line',\n",
       " 'of',\n",
       " 'words',\n",
       " 'this',\n",
       " 'is',\n",
       " 'a',\n",
       " 'second',\n",
       " 'line',\n",
       " 'of',\n",
       " 'words',\n",
       " 'this',\n",
       " 'is',\n",
       " 'a',\n",
       " 'third',\n",
       " 'line',\n",
       " 'of',\n",
       " 'words']"
      ]
     },
     "execution_count": 35,
     "metadata": {},
     "output_type": "execute_result"
    }
   ],
   "source": [
    "word_getter('words.txt')"
   ]
  },
  {
   "cell_type": "markdown",
   "metadata": {},
   "source": [
    "Go to Project Gutenberg (http://gutenberg.org) and download your favorite out-of-copyright book in plain text format.\n",
    "\n",
    "Modify your program from the previous exercise to read the book you downloaded, skip over the header information at the beginning of the file, and process the rest of the words as before.\n",
    "\n",
    "Then modify the program to count the total number of words in the book, and the number of times each word is used.\n",
    "\n",
    "Print the number of different words used in the book. Compare different books by different authors, written in different eras. Which author uses the most extensive vocabulary? "
   ]
  },
  {
   "cell_type": "code",
   "execution_count": 71,
   "metadata": {
    "collapsed": true
   },
   "outputs": [],
   "source": [
    "def word_getter(file):\n",
    "    \"\"\"Convert a text file into a list of words\"\"\"\n",
    "    words = [] # holds the list of words in the file\n",
    "    table = str.maketrans({key: None for key in string.punctuation}) # takes the punctuation out of strings\n",
    "    with open(file, 'r+') as f: # opens file\n",
    "        text = f.read() # reads it \n",
    "        text_list = text.split() # splits on whitespace\n",
    "        for w in text_list: # loop through all the words\n",
    "            w = w.lower() # make them lower case\n",
    "            w = w.translate(table) # remove punctuation\n",
    "            words.append(w) # add to list\n",
    "    return words\n",
    "\n",
    "def count_words(words):\n",
    "    \"\"\"words is a list containing non-unique words\"\"\"\n",
    "    return len(words)\n",
    "\n",
    "def count_unique(words):\n",
    "    \"\"\"words is a list of non-unique words\"\"\"\n",
    "    from collections import Counter\n",
    "    return Counter(words)\n",
    "\n",
    "def top_n_words(counted, n=20):\n",
    "    \"\"\"counted is a Counter object\"\"\"\n",
    "    try:\n",
    "        top_n = counted.most_common(n)\n",
    "    except:\n",
    "        print('counted is type {}, should be collections.Counter'.format(type(counted)))\n",
    "    return top_n\n",
    "\n",
    "def analyze(file):\n",
    "    words = word_getter(file)\n",
    "    n_words = count_words(words)\n",
    "    count_n_words = count_unique(words)\n",
    "    return n_words, count_n_words"
   ]
  },
  {
   "cell_type": "code",
   "execution_count": 72,
   "metadata": {
    "collapsed": true
   },
   "outputs": [],
   "source": [
    "shakes_n, shakes_count = analyze('macbeth.txt')"
   ]
  },
  {
   "cell_type": "code",
   "execution_count": 73,
   "metadata": {
    "collapsed": true
   },
   "outputs": [],
   "source": [
    "dickens_n, dickens_count = analyze('olivertwist.txt')"
   ]
  },
  {
   "cell_type": "code",
   "execution_count": 74,
   "metadata": {},
   "outputs": [
    {
     "name": "stdout",
     "output_type": "stream",
     "text": [
      "Macbeth contains 17738 words. Oliver Twist contains 160915 words\n"
     ]
    }
   ],
   "source": [
    "print('Macbeth contains {} words. Oliver Twist contains {} words'.format(shakes_n, dickens_n))"
   ]
  },
  {
   "cell_type": "markdown",
   "metadata": {},
   "source": [
    "Modify the program from the previous exercise to print the 20 most frequently used words in the book."
   ]
  },
  {
   "cell_type": "code",
   "execution_count": 76,
   "metadata": {},
   "outputs": [
    {
     "data": {
      "text/plain": [
       "[('the', 647),\n",
       " ('and', 545),\n",
       " ('to', 383),\n",
       " ('of', 338),\n",
       " ('i', 331),\n",
       " ('a', 239),\n",
       " ('that', 227),\n",
       " ('my', 203),\n",
       " ('you', 203),\n",
       " ('in', 199),\n",
       " ('is', 180),\n",
       " ('not', 165),\n",
       " ('it', 161),\n",
       " ('with', 153),\n",
       " ('his', 146),\n",
       " ('macb', 137),\n",
       " ('be', 137),\n",
       " ('your', 126),\n",
       " ('our', 123),\n",
       " ('haue', 122)]"
      ]
     },
     "execution_count": 76,
     "metadata": {},
     "output_type": "execute_result"
    }
   ],
   "source": [
    "top_n_words(shakes_count)"
   ]
  },
  {
   "cell_type": "markdown",
   "metadata": {},
   "source": [
    "Modify the previous program to read a word list (see Section 9.1) and then print all the words in the book that are not in the word list. How many of them are typos? How many of them are common words that should be in the word list, and how many of them are really obscure?"
   ]
  }
 ],
 "metadata": {
  "kernelspec": {
   "display_name": "Python 3",
   "language": "python",
   "name": "python3"
  },
  "language_info": {
   "codemirror_mode": {
    "name": "ipython",
    "version": 3
   },
   "file_extension": ".py",
   "mimetype": "text/x-python",
   "name": "python",
   "nbconvert_exporter": "python",
   "pygments_lexer": "ipython3",
   "version": "3.5.3"
  }
 },
 "nbformat": 4,
 "nbformat_minor": 2
}
