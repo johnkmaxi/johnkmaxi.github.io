{
 "cells": [
  {
   "cell_type": "markdown",
   "metadata": {},
   "source": [
    "# How to Resample with Strings to Label Data"
   ]
  },
  {
   "cell_type": "code",
   "execution_count": 52,
   "metadata": {},
   "outputs": [],
   "source": [
    "data = pd.read_csv('data.csv', index_col=0)\n",
    "data.index = pd.to_datetime(data.index)"
   ]
  },
  {
   "cell_type": "code",
   "execution_count": 54,
   "metadata": {},
   "outputs": [
    {
     "data": {
      "text/html": [
       "<div>\n",
       "<style scoped>\n",
       "    .dataframe tbody tr th:only-of-type {\n",
       "        vertical-align: middle;\n",
       "    }\n",
       "\n",
       "    .dataframe tbody tr th {\n",
       "        vertical-align: top;\n",
       "    }\n",
       "\n",
       "    .dataframe thead th {\n",
       "        text-align: right;\n",
       "    }\n",
       "</style>\n",
       "<table border=\"1\" class=\"dataframe\">\n",
       "  <thead>\n",
       "    <tr style=\"text-align: right;\">\n",
       "      <th></th>\n",
       "      <th>Label</th>\n",
       "      <th>User ID</th>\n",
       "      <th>Engagement</th>\n",
       "    </tr>\n",
       "    <tr>\n",
       "      <th>Timestamp</th>\n",
       "      <th></th>\n",
       "      <th></th>\n",
       "      <th></th>\n",
       "    </tr>\n",
       "  </thead>\n",
       "  <tbody>\n",
       "    <tr>\n",
       "      <th>2018-05-14 10:40:15</th>\n",
       "      <td>None</td>\n",
       "      <td>None</td>\n",
       "      <td>-2.343828</td>\n",
       "    </tr>\n",
       "    <tr>\n",
       "      <th>2018-05-14 10:40:16</th>\n",
       "      <td>None</td>\n",
       "      <td>None</td>\n",
       "      <td>-14.431959</td>\n",
       "    </tr>\n",
       "    <tr>\n",
       "      <th>2018-05-14 10:40:16</th>\n",
       "      <td>None</td>\n",
       "      <td>None</td>\n",
       "      <td>39.127761</td>\n",
       "    </tr>\n",
       "    <tr>\n",
       "      <th>2018-05-14 10:40:17</th>\n",
       "      <td>None</td>\n",
       "      <td>None</td>\n",
       "      <td>16.067326</td>\n",
       "    </tr>\n",
       "    <tr>\n",
       "      <th>2018-05-14 10:40:18</th>\n",
       "      <td>None</td>\n",
       "      <td>None</td>\n",
       "      <td>9.930275</td>\n",
       "    </tr>\n",
       "  </tbody>\n",
       "</table>\n",
       "</div>"
      ],
      "text/plain": [
       "                    Label User ID  Engagement\n",
       "Timestamp                                    \n",
       "2018-05-14 10:40:15  None    None   -2.343828\n",
       "2018-05-14 10:40:16  None    None  -14.431959\n",
       "2018-05-14 10:40:16  None    None   39.127761\n",
       "2018-05-14 10:40:17  None    None   16.067326\n",
       "2018-05-14 10:40:18  None    None    9.930275"
      ]
     },
     "execution_count": 54,
     "metadata": {},
     "output_type": "execute_result"
    }
   ],
   "source": [
    "import datetime\n",
    "session = datetime.datetime.strptime('2018-05-14', '%Y-%m-%d').date()\n",
    "data = data.loc[data.index.date==session]\n",
    "data.head()"
   ]
  },
  {
   "cell_type": "markdown",
   "metadata": {},
   "source": [
    "We have a DataFrame with a DateTimeIndex, two columns with string values (Label and User ID) and a numerical column (Engagement). Each observation occurs about once per second, although sometimes there are multiple observations per second. Pandas has a resample method that allows for easily changing the time scale of the index. For example, we can resample by '1min' to get the Engagement scores per minute."
   ]
  },
  {
   "cell_type": "code",
   "execution_count": 55,
   "metadata": {},
   "outputs": [
    {
     "data": {
      "text/plain": [
       "<matplotlib.axes._subplots.AxesSubplot at 0x28dc8e34d30>"
      ]
     },
     "execution_count": 55,
     "metadata": {},
     "output_type": "execute_result"
    },
    {
     "data": {
      "image/png": "[encoded data removed]",
      "text/plain": [
       "<matplotlib.figure.Figure at 0x28dc8dcb710>"
      ]
     },
     "metadata": {},
     "output_type": "display_data"
    }
   ],
   "source": [
    "%matplotlib inline\n",
    "data.resample('1min').mean().plot(kind='line', rot=45, marker='o')"
   ]
  },
  {
   "cell_type": "markdown",
   "metadata": {},
   "source": [
    "By default, Pandas does not know to handle strings in the resample function. What if we want to use those strings as data labels? Here's how. We compute the mode of the string per time period."
   ]
  },
  {
   "cell_type": "markdown",
   "metadata": {},
   "source": [
    "# Compute the mode of the User ID and Label"
   ]
  },
  {
   "cell_type": "code",
   "execution_count": 56,
   "metadata": {
    "scrolled": true
   },
   "outputs": [
    {
     "name": "stderr",
     "output_type": "stream",
     "text": [
      "c:\\users\\john maxi\\anaconda3\\envs\\tensorflowenv\\lib\\site-packages\\scipy\\stats\\stats.py:245: RuntimeWarning: The input array could not be properly checked for nan values. nan values will be ignored.\n",
      "  \"values. nan values will be ignored.\", RuntimeWarning)\n"
     ]
    },
    {
     "data": {
      "text/html": [
       "<div>\n",
       "<style scoped>\n",
       "    .dataframe tbody tr th:only-of-type {\n",
       "        vertical-align: middle;\n",
       "    }\n",
       "\n",
       "    .dataframe tbody tr th {\n",
       "        vertical-align: top;\n",
       "    }\n",
       "\n",
       "    .dataframe thead th {\n",
       "        text-align: right;\n",
       "    }\n",
       "</style>\n",
       "<table border=\"1\" class=\"dataframe\">\n",
       "  <thead>\n",
       "    <tr style=\"text-align: right;\">\n",
       "      <th></th>\n",
       "      <th>Label</th>\n",
       "      <th>Engagement</th>\n",
       "      <th>User ID</th>\n",
       "    </tr>\n",
       "    <tr>\n",
       "      <th>Timestamp</th>\n",
       "      <th></th>\n",
       "      <th></th>\n",
       "      <th></th>\n",
       "    </tr>\n",
       "  </thead>\n",
       "  <tbody>\n",
       "    <tr>\n",
       "      <th>2018-05-14 10:40:00</th>\n",
       "      <td>None</td>\n",
       "      <td>14.068135</td>\n",
       "      <td>None</td>\n",
       "    </tr>\n",
       "    <tr>\n",
       "      <th>2018-05-14 10:41:00</th>\n",
       "      <td>None</td>\n",
       "      <td>0.231592</td>\n",
       "      <td>None</td>\n",
       "    </tr>\n",
       "    <tr>\n",
       "      <th>2018-05-14 10:42:00</th>\n",
       "      <td>demo</td>\n",
       "      <td>-2.981444</td>\n",
       "      <td>None</td>\n",
       "    </tr>\n",
       "    <tr>\n",
       "      <th>2018-05-14 10:43:00</th>\n",
       "      <td>demo</td>\n",
       "      <td>12.820799</td>\n",
       "      <td>None</td>\n",
       "    </tr>\n",
       "    <tr>\n",
       "      <th>2018-05-14 10:44:00</th>\n",
       "      <td>demo</td>\n",
       "      <td>8.654669</td>\n",
       "      <td>None</td>\n",
       "    </tr>\n",
       "  </tbody>\n",
       "</table>\n",
       "</div>"
      ],
      "text/plain": [
       "                    Label  Engagement User ID\n",
       "Timestamp                                    \n",
       "2018-05-14 10:40:00  None   14.068135    None\n",
       "2018-05-14 10:41:00  None    0.231592    None\n",
       "2018-05-14 10:42:00  demo   -2.981444    None\n",
       "2018-05-14 10:43:00  demo   12.820799    None\n",
       "2018-05-14 10:44:00  demo    8.654669    None"
      ]
     },
     "execution_count": 56,
     "metadata": {},
     "output_type": "execute_result"
    }
   ],
   "source": [
    "from scipy.stats import mode as md\n",
    "col = 'Engagement'\n",
    "x = data.resample('1min').agg({col:'mean',\n",
    "                                    \"User ID\":lambda x: md(x)[0],#\n",
    "                                    \"Label\":lambda x: md(x)[0]})\n",
    "x['User ID'] = [x if isinstance(x, str) else np.nan for x in x['User ID']]\n",
    "x['Label'] = [x if isinstance(x, str) else np.nan for x in x['Label']]\n",
    "x.head()"
   ]
  },
  {
   "cell_type": "markdown",
   "metadata": {},
   "source": [
    "To plot the data using our new group labels we can pivot around one of the label columns."
   ]
  },
  {
   "cell_type": "markdown",
   "metadata": {},
   "source": [
    "# Pivot to make User ID the columns"
   ]
  },
  {
   "cell_type": "code",
   "execution_count": 57,
   "metadata": {
    "collapsed": true
   },
   "outputs": [],
   "source": [
    "a = x.pivot(columns='User ID', values=col)"
   ]
  },
  {
   "cell_type": "markdown",
   "metadata": {},
   "source": [
    "# Pivot to make Label the columns"
   ]
  },
  {
   "cell_type": "code",
   "execution_count": 58,
   "metadata": {
    "collapsed": true
   },
   "outputs": [],
   "source": [
    "y = x.pivot(columns='Label', values=col)"
   ]
  },
  {
   "cell_type": "markdown",
   "metadata": {},
   "source": [
    "# Plot the data labeled by User ID"
   ]
  },
  {
   "cell_type": "code",
   "execution_count": 59,
   "metadata": {},
   "outputs": [
    {
     "data": {
      "image/png": "[encoded data removed]",
      "text/plain": [
       "<matplotlib.figure.Figure at 0x28dca0c3e48>"
      ]
     },
     "metadata": {},
     "output_type": "display_data"
    }
   ],
   "source": [
    "a.plot(kind='line');"
   ]
  },
  {
   "cell_type": "markdown",
   "metadata": {},
   "source": [
    "# Plot the data labeled by Label"
   ]
  },
  {
   "cell_type": "code",
   "execution_count": 60,
   "metadata": {},
   "outputs": [
    {
     "data": {
      "image/png": "[encoded data removed]",
      "text/plain": [
       "<matplotlib.figure.Figure at 0x28dc8e85be0>"
      ]
     },
     "metadata": {},
     "output_type": "display_data"
    }
   ],
   "source": [
    "y.plot(kind='line');"
   ]
  }
 ],
 "metadata": {
  "kernelspec": {
   "display_name": "Python 3",
   "language": "python",
   "name": "python3"
  },
  "language_info": {
   "codemirror_mode": {
    "name": "ipython",
    "version": 3
   },
   "file_extension": ".py",
   "mimetype": "text/x-python",
   "name": "python",
   "nbconvert_exporter": "python",
   "pygments_lexer": "ipython3",
   "version": "3.5.3"
  }
 },
 "nbformat": 4,
 "nbformat_minor": 2
}
