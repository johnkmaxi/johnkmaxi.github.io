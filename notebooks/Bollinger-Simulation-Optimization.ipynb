{
 "cells": [
  {
   "cell_type": "code",
   "execution_count": 1,
   "metadata": {
    "collapsed": true
   },
   "outputs": [],
   "source": [
    "import quandlkey\n",
    "import pandas as pd"
   ]
  },
  {
   "cell_type": "code",
   "execution_count": 6,
   "metadata": {},
   "outputs": [
    {
     "data": {
      "text/plain": [
       "1514    JBHT\n",
       "1272     XLS\n",
       "117     CSCO\n",
       "484       WU\n",
       "600      AMC\n",
       "2624    TRMR\n",
       "343     NWSA\n",
       "356     PDCO\n",
       "1088    CMLS\n",
       "1396     GEF\n",
       "1210    ECPG\n",
       "572     ALGN\n",
       "1301    FCSC\n",
       "2846    XOOM\n",
       "2745    VICR\n",
       "1131    DHIL\n",
       "883      CRR\n",
       "1558    INFA\n",
       "1821    MEAS\n",
       "2762    VOCS\n",
       "1501     HMN\n",
       "2361     SMG\n",
       "1012     CBU\n",
       "101      COL\n",
       "1079     CSS\n",
       "Name: 0, dtype: object"
      ]
     },
     "execution_count": 6,
     "metadata": {},
     "output_type": "execute_result"
    }
   ],
   "source": [
    "# pick a list of stocks to use in the simulation\n",
    "stocks = quandlkey.stocks()[0].sample(25).str[5:]\n",
    "stocks"
   ]
  },
  {
   "cell_type": "markdown",
   "metadata": {},
   "source": [
    "1514    JBHT\n",
    "1272     XLS\n",
    "117     CSCO\n",
    "484       WU\n",
    "600      AMC\n",
    "2624    TRMR\n",
    "343     NWSA\n",
    "356     PDCO\n",
    "1088    CMLS\n",
    "1396     GEF\n",
    "1210    ECPG\n",
    "572     ALGN\n",
    "1301    FCSC\n",
    "2846    XOOM\n",
    "2745    VICR\n",
    "1131    DHIL\n",
    "883      CRR\n",
    "1558    INFA\n",
    "1821    MEAS\n",
    "2762    VOCS\n",
    "1501     HMN\n",
    "2361     SMG\n",
    "1012     CBU\n",
    "101      COL\n",
    "1079     CSS"
   ]
  },
  {
   "cell_type": "code",
   "execution_count": 4,
   "metadata": {
    "collapsed": true
   },
   "outputs": [],
   "source": [
    "# pick a date range for which the stocks are available, perhaps use relatively recent tiem frame, 3-5 years\n",
    "start_date = (2015, 1, 1)"
   ]
  },
  {
   "cell_type": "code",
   "execution_count": 16,
   "metadata": {
    "collapsed": true,
    "scrolled": true
   },
   "outputs": [],
   "source": [
    "# strategy\n",
    "baseresults = []\n",
    "myresults = []\n",
    "params = []\n",
    "company = []\n",
    "windows = [2,5,10,20,25,30,40,50]\n",
    "sell_pers = [0.1,0.25,0.50,0.75,0.90]\n",
    "buy_amts = [50,100,250,500,750]\n",
    "widths = [1,2,3]\n",
    "initial_balance = 1000\n",
    "sim_num = 0\n",
    "for stock in stocks:\n",
    "    stock_data = quandlkey.quandl_stocks(stock, start_date=start_date)\n",
    "    try:\n",
    "        for window in windows:\n",
    "            for sell_per in sell_pers:\n",
    "                for buy_amt in buy_amts:\n",
    "                    for width in widths:\n",
    "                        while sim_num < 10:\n",
    "                            start = stock_data['WIKI/{} - Adj. Close'.format(stock)].sample(1).index[0]\n",
    "                            end = stock_data['WIKI/{} - Adj. Close'.format(stock)][start:].sample(1).index[0]\n",
    "                            sim = quandlkey.BollingerBands(stock_data['WIKI/{} - Adj. Close'.format(stock)].loc[start:end], \n",
    "                                           window=window, sell_per=sell_per, buy_amt=buy_amt, width=width,\n",
    "                                            balance=initial_balance)\n",
    "                            sim.trade()\n",
    "                            base = sim.buy_and_hold()\n",
    "                            baseresults.append(base[-1])\n",
    "                            thisreturn = sim.results['Shares']*sim.stock+sim.results['Balance']\n",
    "                            myresults.append(thisreturn[-1])\n",
    "                            params.append((window, sell_per, buy_amt, width))\n",
    "                            company.append(stock)\n",
    "        \n",
    "                            sim_num += 1\n",
    "                        sim_num = 0\n",
    "    except:\n",
    "        pass"
   ]
  },
  {
   "cell_type": "code",
   "execution_count": 19,
   "metadata": {
    "collapsed": true
   },
   "outputs": [],
   "source": [
    "# convert params list of tuples into a DataFrmae\n",
    "params = pd.DataFrame(params, columns=['Window','SellPer','BuyAmt','Width'])"
   ]
  },
  {
   "cell_type": "code",
   "execution_count": 23,
   "metadata": {
    "collapsed": true
   },
   "outputs": [],
   "source": [
    "paramSim = pd.DataFrame({'Base':baseresults,'Maxi':myresults, 'Company':company})\n",
    "paramSim = pd.concat([paramSim, params], axis=1)\n",
    "# convert dollar returns to percentages\n",
    "paramSim[['Base','Maxi']] = (paramSim[['Base','Maxi']]/sim.balance)-1 # converts dollar returns to % returns"
   ]
  },
  {
   "cell_type": "code",
   "execution_count": 25,
   "metadata": {
    "collapsed": true
   },
   "outputs": [],
   "source": [
    "paramSim.to_csv('Bollinger Simulation Results.csv')"
   ]
  },
  {
   "cell_type": "markdown",
   "metadata": {},
   "source": [
    "### Analysis\n",
    "1. What was the average return for the two strategies?\n",
    "    - Why: compares random stock investing to a strategy\n",
    "2. Did any combination of parameters reliably beat the market?\n",
    "    - Why: AAPL/GE analysis indicate that only a fraction of time my stategy beats the market. Do one of the other combinations work better? (whole point of doing this grid search)\n",
    "3. Where there any specific companies that my strategy worked on?\n",
    "    - Why: Would indicate that the strategy only works for certain types of companies.\n",
    "    - Follow up to this result would be to test on other similar companies. Another project stemming from this would be to build an algorithm that could predict when my strategy would work.\n",
    "    - Would likely need to run the simulation again and keep track of the start/end dates in order to understand the market trend that leads to success. Would actually need to get x days of data leading up to time region I perform the simulation on. So the training data would be something like 1 month of data on the data and then simulate on the following year of data. Allows to answer question, will this stock return a certain level over the next year?"
   ]
  },
  {
   "cell_type": "code",
   "execution_count": 2,
   "metadata": {
    "collapsed": true
   },
   "outputs": [],
   "source": [
    "paramSim = pd.read_csv('Bollinger Simulation Results.csv', index_col=0)"
   ]
  },
  {
   "cell_type": "markdown",
   "metadata": {},
   "source": [
    "1. What was the average return for the two strategies?\n",
    "    - Why: compares random stock investing to a strategy\n",
    "    - [Likely Need to do Wilcoxon Matched Pairs Test](http://www.biochemia-medica.com/content/comparing-groups-statistical-differences-how-choose-right-statistical-test)"
   ]
  },
  {
   "cell_type": "code",
   "execution_count": 74,
   "metadata": {},
   "outputs": [
    {
     "name": "stdout",
     "output_type": "stream",
     "text": [
      "Using matplotlib backend: Qt5Agg\n"
     ]
    },
    {
     "data": {
      "text/plain": [
       "(-3, 20)"
      ]
     },
     "execution_count": 74,
     "metadata": {},
     "output_type": "execute_result"
    }
   ],
   "source": [
    "# quick histogram, requires some serious tuning for good viz, the skew of the returns using my strategy is crazy\n",
    "# tells us what type of distribution we are dealing with which informs which measure of central tendency to use\n",
    "# for comparing the strategies\n",
    "%matplotlib\n",
    "fig, ax = plt.subplots(figsize=(16,9))\n",
    "paramSim['Base'].plot(kind='hist', ax=ax, legend=True, fontsize=20)\n",
    "paramSim['Maxi'].plot(kind='hist', bins=1000, ax=ax, legend=True, fontsize=20, alpha=0.5);\n",
    "#ax.set_ylim(0,8000)\n",
    "ax.set_xlim(-3,20)"
   ]
  },
  {
   "cell_type": "markdown",
   "metadata": {},
   "source": [
    "The distribution of the returns are interestingly shaped. The Base values are tightly centered around 0 with max and min values of 1 and -1, respectively. The Maxi data however, is highly skewed. The minimum value is -1 while the maximum value is over 1000. The median and mean investment returns are plotted below."
   ]
  },
  {
   "cell_type": "code",
   "execution_count": 36,
   "metadata": {
    "collapsed": true
   },
   "outputs": [],
   "source": [
    "def iqr(x):\n",
    "    \"\"\"x 1D array/Series\"\"\"\n",
    "    # calculate interquartile range\n",
    "    q25, q75 = np.percentile(x, 25), np.percentile(x, 75)\n",
    "    iqr = q75 - q25\n",
    "    return iqr"
   ]
  },
  {
   "cell_type": "code",
   "execution_count": 72,
   "metadata": {},
   "outputs": [
    {
     "name": "stdout",
     "output_type": "stream",
     "text": [
      "Using matplotlib backend: Qt5Agg\n"
     ]
    },
    {
     "data": {
      "text/plain": [
       "<matplotlib.text.Text at 0x2da89890588>"
      ]
     },
     "execution_count": 72,
     "metadata": {},
     "output_type": "execute_result"
    }
   ],
   "source": [
    "%matplotlib\n",
    "# calculate interquartile range\n",
    "iqr_b = iqr(paramSim['Base'])\n",
    "iqr_m = iqr(paramSim['Maxi'])\n",
    "f, a = plt.subplots(figsize=(16,9))\n",
    "paramSim[['Base','Maxi']].median().plot(kind='bar', yerr=[iqr_b,iqr_m], ax=a,\n",
    "                                      fontsize=20, rot=0)\n",
    "a.set_title('Median Investment Return', fontsize=20)\n",
    "a.set_ylabel('% Return/100', fontsize=20)\n",
    "a.set_xlabel('Strategy', fontsize=20)\n",
    "a.text(0.1,.05,'{:.3f}%'.format(paramSim['Base'].median()*100), fontdict={'fontsize':20})\n",
    "a.text(1.05,.05,'{:.3f}%'.format(paramSim['Maxi'].median()*100), fontdict={'fontsize':20});"
   ]
  },
  {
   "cell_type": "code",
   "execution_count": 60,
   "metadata": {},
   "outputs": [
    {
     "name": "stdout",
     "output_type": "stream",
     "text": [
      "Using matplotlib backend: Qt5Agg\n"
     ]
    },
    {
     "data": {
      "text/plain": [
       "<matplotlib.text.Text at 0x2daf2a07f98>"
      ]
     },
     "execution_count": 60,
     "metadata": {},
     "output_type": "execute_result"
    }
   ],
   "source": [
    "%matplotlib\n",
    "f, a = plt.subplots(figsize=(16,9))\n",
    "paramSim[['Base','Maxi']].mean().plot(kind='bar', yerr=paramSim[['Base','Maxi']].sem(), ax=a,\n",
    "                                      fontsize=20, rot=0)\n",
    "a.set_title('Mean Investment Return', fontsize=20)\n",
    "a.set_ylabel('% Return/100', fontsize=20)\n",
    "a.set_xlabel('Strategy', fontsize=20)\n",
    "a.text(0-.045,0.3,'{:.2f}%'.format(paramSim['Base'].mean()*100), fontdict={'fontsize':20})\n",
    "a.text(.95,3.0,'{:.2f}%'.format(paramSim['Maxi'].mean()*100), fontdict={'fontsize':20});"
   ]
  },
  {
   "cell_type": "markdown",
   "metadata": {},
   "source": [
    "Since the distributions do not look normal, we'll compare the returns from each method using the Wilcoxon signed-rank test. This test is a non-parametric version of the paired t-test. We are using the paired t-test because we care about the difference between the two strategie for each observation."
   ]
  },
  {
   "cell_type": "code",
   "execution_count": 88,
   "metadata": {},
   "outputs": [],
   "source": [
    "from scipy.stats import wilcoxon\n",
    "from scipy import stats\n",
    "from scipy.stats import distributions"
   ]
  },
  {
   "cell_type": "code",
   "execution_count": 95,
   "metadata": {},
   "outputs": [
    {
     "name": "stdout",
     "output_type": "stream",
     "text": [
      "4212173767.5 1.95006812511e-299 -36.9856195911\n"
     ]
    }
   ],
   "source": [
    "def wilcoxon_(x, y=None, zero_method=\"wilcox\", correction=False):\n",
    "    \"\"\"\n",
    "    Calculate the Wilcoxon signed-rank test.\n",
    "    The Wilcoxon signed-rank test tests the null hypothesis that two\n",
    "    related paired samples come from the same distribution. In particular,\n",
    "    it tests whether the distribution of the differences x - y is symmetric\n",
    "    about zero. It is a non-parametric version of the paired T-test.\n",
    "    Parameters\n",
    "    ----------\n",
    "    x : array_like\n",
    "        The first set of measurements.\n",
    "    y : array_like, optional\n",
    "        The second set of measurements.  If `y` is not given, then the `x`\n",
    "        array is considered to be the differences between the two sets of\n",
    "        measurements.\n",
    "    zero_method : string, {\"pratt\", \"wilcox\", \"zsplit\"}, optional\n",
    "        \"pratt\":\n",
    "            Pratt treatment: includes zero-differences in the ranking process\n",
    "            (more conservative)\n",
    "        \"wilcox\":\n",
    "            Wilcox treatment: discards all zero-differences\n",
    "        \"zsplit\":\n",
    "            Zero rank split: just like Pratt, but spliting the zero rank\n",
    "            between positive and negative ones\n",
    "    correction : bool, optional\n",
    "        If True, apply continuity correction by adjusting the Wilcoxon rank\n",
    "        statistic by 0.5 towards the mean value when computing the\n",
    "        z-statistic.  Default is False.\n",
    "    Returns\n",
    "    -------\n",
    "    T : float\n",
    "        The sum of the ranks of the differences above or below zero, whichever\n",
    "        is smaller.\n",
    "    p-value : float\n",
    "        The two-sided p-value for the test.\n",
    "    Notes\n",
    "    -----\n",
    "    Because the normal approximation is used for the calculations, the\n",
    "    samples used should be large.  A typical rule is to require that\n",
    "    n > 20.\n",
    "    References\n",
    "    ----------\n",
    "    .. [1] http://en.wikipedia.org/wiki/Wilcoxon_signed-rank_test\n",
    "    \"\"\"\n",
    "\n",
    "    if not zero_method in [\"wilcox\", \"pratt\", \"zsplit\"]:\n",
    "        raise ValueError(\"Zero method should be either 'wilcox' \\\n",
    "                          or 'pratt' or 'zsplit'\")\n",
    "\n",
    "    if y is None:\n",
    "        d = x\n",
    "    else:\n",
    "        x, y = map(np.asarray, (x, y))\n",
    "        if len(x) != len(y):\n",
    "            raise ValueError('Unequal N in wilcoxon.  Aborting.')\n",
    "        d = x-y\n",
    "\n",
    "    if zero_method == \"wilcox\":\n",
    "        d = np.compress(np.not_equal(d, 0), d, axis=-1)  # Keep all non-zero differences\n",
    "\n",
    "    count = len(d)\n",
    "    if (count < 10):\n",
    "        warnings.warn(\"Warning: sample size too small for normal approximation.\")\n",
    "    r = stats.rankdata(abs(d))\n",
    "    r_plus = np.sum((d > 0) * r, axis=0)\n",
    "    r_minus = np.sum((d < 0) * r, axis=0)\n",
    "\n",
    "    if zero_method == \"zsplit\":\n",
    "        r_zero = np.sum((d == 0) * r, axis=0)\n",
    "        r_plus += r_zero / 2.\n",
    "        r_minus += r_zero / 2.\n",
    "\n",
    "    T = min(r_plus, r_minus)\n",
    "    mn = count*(count + 1.) * 0.25\n",
    "    se = count*(count + 1.) * (2. * count + 1.)\n",
    "\n",
    "    if zero_method == \"pratt\":\n",
    "        r = r[d != 0]\n",
    "\n",
    "    replist, repnum = stats.find_repeats(r)\n",
    "    if repnum.size != 0:\n",
    "        # Correction for repeated elements.\n",
    "        se -= 0.5 * (repnum * (repnum * repnum - 1)).sum()\n",
    "\n",
    "    se = np.sqrt(se / 24)\n",
    "    correction = 0.5 * int(bool(correction)) * np.sign(T - mn)\n",
    "    z = (T - mn - correction) / se\n",
    "    prob = 2. * distributions.norm.sf(abs(z))\n",
    "    return T, prob, z\n",
    "T, p, z = wilcoxon_(paramSim['Base'],paramSim['Maxi'])\n",
    "print(T, p, z)"
   ]
  },
  {
   "cell_type": "markdown",
   "metadata": {},
   "source": [
    "Above, I modified the scipy.stats.wilcoxon function to return the Z value. This allows for the calculation of an effect size. The p-value indicates a significant effect, however, the number of samples we are dealing with is so large that the p-value is likely meaningless. We can use the Z vale to calculate the [effect size](https://stats.stackexchange.com/questions/133077/effect-size-to-wilcoxon-signed-rank-test)."
   ]
  },
  {
   "cell_type": "code",
   "execution_count": 98,
   "metadata": {},
   "outputs": [
    {
     "name": "stdout",
     "output_type": "stream",
     "text": [
      "Cohen's d: -0.10\n"
     ]
    }
   ],
   "source": [
    "print(\"Cohen's d: {:.2f}\".format(z/np.sqrt(len(paramSim))))"
   ]
  },
  {
   "cell_type": "markdown",
   "metadata": {},
   "source": [
    "A Cohen's d with a magnitude of 0.1 is considered a small effect size. The negative value means that there was an increase in the values in the Maxi strategy compared to the baseline strategy. These results indicate that for a given observation, the Maxi strategy gives a better return then randomly investing in a particular stock. This is driven home by considering the mode of the difference in the returns by the two strategies:"
   ]
  },
  {
   "cell_type": "code",
   "execution_count": 109,
   "metadata": {},
   "outputs": [
    {
     "data": {
      "text/plain": [
       "28.625329218882325"
      ]
     },
     "execution_count": 109,
     "metadata": {},
     "output_type": "execute_result"
    }
   ],
   "source": [
    "# use the describe function get some basic info\n",
    "(paramSim['Maxi']-paramSim['Base']).std()"
   ]
  },
  {
   "cell_type": "markdown",
   "metadata": {
    "collapsed": true
   },
   "source": [
    "The most common difference is a 3% greater return with the Maxi strategy. Now, we need to keep in mind that the results are **highly** variable. The standard deviation of the difference in returns is roughly 2800%. It would be nice to know if there was an implemntation of the strategy that provided greater returns without nearly so much risk:\n",
    "\n",
    "- Did any combination of parameters reliably beat the market?\n",
    "    - Why: AAPL/GE analysis indicate that only a fraction of time my stategy beats the market. Do one of the other combinations work better? (whole point of doing this grid search)"
   ]
  },
  {
   "cell_type": "code",
   "execution_count": 130,
   "metadata": {},
   "outputs": [
    {
     "name": "stdout",
     "output_type": "stream",
     "text": [
      "Using matplotlib backend: Qt5Agg\n"
     ]
    },
    {
     "data": {
      "text/plain": [
       "<matplotlib.axes._subplots.AxesSubplot at 0x2dab66f9470>"
      ]
     },
     "execution_count": 130,
     "metadata": {},
     "output_type": "execute_result"
    }
   ],
   "source": [
    "%matplotlib\n",
    "paramSim.groupby(['Width','SellPer','BuyAmt','Window'])[['Base','Maxi']].mean().plot(kind='bar', yerr=paramSim.groupby(['Width','SellPer','BuyAmt','Window'])[['Base','Maxi']].sem())"
   ]
  },
  {
   "cell_type": "code",
   "execution_count": 144,
   "metadata": {},
   "outputs": [
    {
     "data": {
      "text/plain": [
       "Base  count    230.000000\n",
       "      mean       0.052561\n",
       "      std        0.482021\n",
       "      min       -0.982654\n",
       "      25%       -0.091850\n",
       "      50%        0.006100\n",
       "      75%        0.128821\n",
       "      max        3.222080\n",
       "Maxi  count    230.000000\n",
       "      mean     155.235575\n",
       "      std      206.608286\n",
       "      min       -0.384370\n",
       "      25%        3.043031\n",
       "      50%       56.190680\n",
       "      75%      241.078882\n",
       "      max      990.560725\n",
       "Name: (1, 0.9, 750, 10), dtype: float64"
      ]
     },
     "execution_count": 144,
     "metadata": {},
     "output_type": "execute_result"
    }
   ],
   "source": [
    "paramSim.groupby(['Width','SellPer','BuyAmt','Window'])[['Base','Maxi']].describe().iloc[194,:]"
   ]
  },
  {
   "cell_type": "code",
   "execution_count": 151,
   "metadata": {},
   "outputs": [
    {
     "name": "stdout",
     "output_type": "stream",
     "text": [
      "Using matplotlib backend: Qt5Agg\n"
     ]
    }
   ],
   "source": [
    "%matplotlib\n",
    "paramSim[(paramSim['Width']==1)&(paramSim['SellPer']==0.9)&(paramSim['BuyAmt']==750)&(paramSim['Window']==10)]\\\n",
    "[['Base','Maxi']].hist(bins=100);"
   ]
  },
  {
   "cell_type": "markdown",
   "metadata": {},
   "source": [
    "### Question to answer, what percent of the time do you get a certain level of return?"
   ]
  }
 ],
 "metadata": {
  "kernelspec": {
   "display_name": "Python 3",
   "language": "python",
   "name": "python3"
  },
  "language_info": {
   "codemirror_mode": {
    "name": "ipython",
    "version": 3
   },
   "file_extension": ".py",
   "mimetype": "text/x-python",
   "name": "python",
   "nbconvert_exporter": "python",
   "pygments_lexer": "ipython3",
   "version": "3.5.3"
  }
 },
 "nbformat": 4,
 "nbformat_minor": 2
}
