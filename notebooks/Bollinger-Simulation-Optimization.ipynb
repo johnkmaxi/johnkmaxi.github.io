{
 "cells": [
  {
   "cell_type": "code",
   "execution_count": 1,
   "metadata": {
    "collapsed": true
   },
   "outputs": [],
   "source": [
    "import quandlkey\n",
    "import pandas as pd"
   ]
  },
  {
   "cell_type": "code",
   "execution_count": 6,
   "metadata": {},
   "outputs": [
    {
     "data": {
      "text/plain": [
       "1514    JBHT\n",
       "1272     XLS\n",
       "117     CSCO\n",
       "484       WU\n",
       "600      AMC\n",
       "2624    TRMR\n",
       "343     NWSA\n",
       "356     PDCO\n",
       "1088    CMLS\n",
       "1396     GEF\n",
       "1210    ECPG\n",
       "572     ALGN\n",
       "1301    FCSC\n",
       "2846    XOOM\n",
       "2745    VICR\n",
       "1131    DHIL\n",
       "883      CRR\n",
       "1558    INFA\n",
       "1821    MEAS\n",
       "2762    VOCS\n",
       "1501     HMN\n",
       "2361     SMG\n",
       "1012     CBU\n",
       "101      COL\n",
       "1079     CSS\n",
       "Name: 0, dtype: object"
      ]
     },
     "execution_count": 6,
     "metadata": {},
     "output_type": "execute_result"
    }
   ],
   "source": [
    "# pick a list of stocks to use in the simulation\n",
    "stocks = quandlkey.stocks()[0].sample(25).str[5:]\n",
    "stocks"
   ]
  },
  {
   "cell_type": "code",
   "execution_count": 4,
   "metadata": {
    "collapsed": true
   },
   "outputs": [],
   "source": [
    "# pick a date range for which the stocks are available, perhaps use relatively recent tiem frame, 3-5 years\n",
    "start_date = (2015, 1, 1)"
   ]
  },
  {
   "cell_type": "code",
   "execution_count": 16,
   "metadata": {
    "scrolled": true
   },
   "outputs": [],
   "source": [
    "# strategy\n",
    "baseresults = []\n",
    "myresults = []\n",
    "params = []\n",
    "company = []\n",
    "windows = [2,5,10,20,25,30,40,50]\n",
    "sell_pers = [0.1,0.25,0.50,0.75,0.90]\n",
    "buy_amts = [50,100,250,500,750]\n",
    "widths = [1,2,3]\n",
    "initial_balance = 1000\n",
    "sim_num = 0\n",
    "for stock in stocks:\n",
    "    stock_data = quandlkey.quandl_stocks(stock, start_date=start_date)\n",
    "    try:\n",
    "        for window in windows:\n",
    "            for sell_per in sell_pers:\n",
    "                for buy_amt in buy_amts:\n",
    "                    for width in widths:\n",
    "                        while sim_num < 10:\n",
    "                            start = stock_data['WIKI/{} - Adj. Close'.format(stock)].sample(1).index[0]\n",
    "                            end = stock_data['WIKI/{} - Adj. Close'.format(stock)][start:].sample(1).index[0]\n",
    "                            sim = quandlkey.BollingerBands(stock_data['WIKI/{} - Adj. Close'.format(stock)].loc[start:end], \n",
    "                                           window=window, sell_per=sell_per, buy_amt=buy_amt, width=width,\n",
    "                                            balance=initial_balance)\n",
    "                            sim.trade()\n",
    "                            base = sim.buy_and_hold()\n",
    "                            baseresults.append(base[-1])\n",
    "                            thisreturn = sim.results['Shares']*sim.stock+sim.results['Balance']\n",
    "                            myresults.append(thisreturn[-1])\n",
    "                            params.append((window, sell_per, buy_amt, width))\n",
    "                            company.append(stock)\n",
    "        \n",
    "                            sim_num += 1\n",
    "                        sim_num = 0\n",
    "    except:\n",
    "        pass"
   ]
  },
  {
   "cell_type": "code",
   "execution_count": 19,
   "metadata": {},
   "outputs": [],
   "source": [
    "# convert params list of tuples into a DataFrmae\n",
    "params = pd.DataFrame(params, columns=['Window','SellPer','BuyAmt','Width'])"
   ]
  },
  {
   "cell_type": "code",
   "execution_count": 23,
   "metadata": {},
   "outputs": [],
   "source": [
    "paramSim = pd.DataFrame({'Base':baseresults,'Maxi':myresults, 'Company':company})\n",
    "paramSim = pd.concat([paramSim, params], axis=1)\n",
    "# convert dollar returns to percentages\n",
    "paramSim[['Base','Maxi']] = (paramSim[['Base','Maxi']]/sim.balance)-1 # the starting balance"
   ]
  },
  {
   "cell_type": "code",
   "execution_count": 25,
   "metadata": {},
   "outputs": [],
   "source": [
    "paramSim.to_csv('Bollinger Simulation Results.csv')"
   ]
  },
  {
   "cell_type": "code",
   "execution_count": null,
   "metadata": {
    "collapsed": true
   },
   "outputs": [],
   "source": []
  },
  {
   "cell_type": "markdown",
   "metadata": {},
   "source": [
    "### Analysis\n",
    "1. What was the average return for the two strategies?\n",
    "    - Why: compares random stock investing to a strategy\n",
    "2. Did any combination of parameters reliably beat the market?\n",
    "    - Why: AAPL/GE analysis indicate that only a fraction of time my stategy beats the market. Do one of the other combinations work better? (whole point of doing this grid search)\n",
    "3. Where there any specific companies that my strategy worked on?\n",
    "    - Why: Would indicate that the strategy only works for certain types of companies.\n",
    "    - Follow up to this result would be to test on other similar companies. Another project stemming from this would be to build an algorithm that could predict when my strategy would work.\n",
    "    - Would likely need to run the simulation again and keep track of the start/end dates in order to understand the market trend that leads to success."
   ]
  },
  {
   "cell_type": "code",
   "execution_count": null,
   "metadata": {
    "collapsed": true
   },
   "outputs": [],
   "source": [
    "# use the describe function get some basic info\n",
    "paramSim.groupby('Window').describe()#.loc[:,paramSim.columns.get_level_values(1)=='mean']\n",
    "#paramSim.groupby('Company').describe()"
   ]
  },
  {
   "cell_type": "code",
   "execution_count": null,
   "metadata": {
    "collapsed": true
   },
   "outputs": [],
   "source": []
  }
 ],
 "metadata": {
  "kernelspec": {
   "display_name": "Python 3",
   "language": "python",
   "name": "python3"
  },
  "language_info": {
   "codemirror_mode": {
    "name": "ipython",
    "version": 3
   },
   "file_extension": ".py",
   "mimetype": "text/x-python",
   "name": "python",
   "nbconvert_exporter": "python",
   "pygments_lexer": "ipython3",
   "version": "3.5.3"
  }
 },
 "nbformat": 4,
 "nbformat_minor": 2
}
