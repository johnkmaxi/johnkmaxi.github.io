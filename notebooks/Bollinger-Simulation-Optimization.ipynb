{
 "cells": [
  {
   "cell_type": "markdown",
   "metadata": {},
   "source": [
    "# Can I Beat the Stock Market? A Simulation and Analysis\n",
    "\n",
    "I have always been intrigued by the idea of being an active stock investor. The allure of developing a strategy to beat the market with some fancy algorithm while I travel the world with my family seems pretty great! To this end, I recently started the [Machine Learning for Trading](https://www.udacity.com/course/machine-learning-for-trading--ud501) course at Udacity. One of the concepts covered early on in this class are Bollinger Bands (BB). BBs use a 20-day rolling mean of the stock price to compute the an upper and lower price band indicating the price that is two standard deviations above or below the rolling mean. When the daily price exceeds these bands it indicates that the price is relatively high or low and is likely to regress towards the 20-day mean. I could see the riches in my mind's eye - it seems like such an easy way to execute the age old mantra of \"buy low, sell high\". When price dips below the lower band, buy and when it rises past the upper band, sell. Easy, right?"
   ]
  },
  {
   "cell_type": "code",
   "execution_count": 1,
   "metadata": {
    "collapsed": true
   },
   "outputs": [],
   "source": [
    "import quandlkey\n",
    "import pandas as pd"
   ]
  },
  {
   "cell_type": "code",
   "execution_count": 2,
   "metadata": {},
   "outputs": [
    {
     "data": {
      "text/plain": [
       "2024     OHRP\n",
       "155       EQR\n",
       "1032     CNOB\n",
       "1537      IRG\n",
       "615       AFG\n",
       "1599      IRF\n",
       "410       SLM\n",
       "2640     TRST\n",
       "2243     ROLL\n",
       "542       ACM\n",
       "1019      CTG\n",
       "2632      TRN\n",
       "78        CAG\n",
       "2354      SWM\n",
       "339      ORLY\n",
       "808       BCC\n",
       "2460     STMP\n",
       "633      AMPE\n",
       "3133      ORM\n",
       "2332     SAFT\n",
       "505       AAN\n",
       "125       DHR\n",
       "1069       CR\n",
       "437       TSN\n",
       "606      UHAL\n",
       "2252     RCPT\n",
       "360       PFE\n",
       "489       YUM\n",
       "2189     PSMT\n",
       "977      CHCO\n",
       "1389       GB\n",
       "2918      ESS\n",
       "1952     NEON\n",
       "1511     HSNI\n",
       "1896     MOVE\n",
       "300       MON\n",
       "23        AFL\n",
       "1562    IMKTA\n",
       "2025      OIS\n",
       "1047      CPA\n",
       "1650      KAI\n",
       "927     CNBKA\n",
       "1302      FGL\n",
       "2882      AEC\n",
       "135       DOW\n",
       "533        AE\n",
       "973      CTRN\n",
       "2971     FULT\n",
       "2208     PTCT\n",
       "Name: 0, dtype: object"
      ]
     },
     "execution_count": 2,
     "metadata": {},
     "output_type": "execute_result"
    }
   ],
   "source": [
    "# pick a list of stocks to use in the simulation\n",
    "stocks = quandlkey.stocks()[0].sample(49).str[5:]\n",
    "stocks"
   ]
  },
  {
   "cell_type": "markdown",
   "metadata": {},
   "source": [
    "1514    JBHT\n",
    "1272     XLS\n",
    "117     CSCO\n",
    "484       WU\n",
    "600      AMC\n",
    "2624    TRMR\n",
    "343     NWSA\n",
    "356     PDCO\n",
    "1088    CMLS\n",
    "1396     GEF\n",
    "1210    ECPG\n",
    "572     ALGN\n",
    "1301    FCSC\n",
    "2846    XOOM\n",
    "2745    VICR\n",
    "1131    DHIL\n",
    "883      CRR\n",
    "1558    INFA\n",
    "1821    MEAS\n",
    "2762    VOCS\n",
    "1501     HMN\n",
    "2361     SMG\n",
    "1012     CBU\n",
    "101      COL\n",
    "1079     CSS"
   ]
  },
  {
   "cell_type": "code",
   "execution_count": 3,
   "metadata": {
    "collapsed": true
   },
   "outputs": [],
   "source": [
    "# pick a date range for which the stocks are available, perhaps use relatively recent tiem frame, 3-5 years\n",
    "start_date = (2015, 1, 1)"
   ]
  },
  {
   "cell_type": "code",
   "execution_count": 4,
   "metadata": {
    "collapsed": true,
    "scrolled": true
   },
   "outputs": [],
   "source": [
    "# strategy\n",
    "baseresults = []\n",
    "myresults = []\n",
    "params = []\n",
    "company = []\n",
    "starts = []\n",
    "ends = []\n",
    "windows = [2,5,10,20,25,30,40,50]\n",
    "sell_pers = [0.1,0.25,0.50,0.75,0.90]\n",
    "buy_amts = [50,100,250,500,750]\n",
    "widths = [1,2,3]\n",
    "initial_balance = 1000\n",
    "sim_num = 0\n",
    "for stock in stocks:\n",
    "    stock_data = quandlkey.quandl_stocks(stock, start_date=start_date)\n",
    "    try:\n",
    "        for window in windows:\n",
    "            for sell_per in sell_pers:\n",
    "                for buy_amt in buy_amts:\n",
    "                    for width in widths:\n",
    "                        while sim_num < 10:\n",
    "                            start = stock_data['WIKI/{} - Adj. Close'.format(stock)].sample(1).index[0]\n",
    "                            end = stock_data['WIKI/{} - Adj. Close'.format(stock)][start:].sample(1).index[0]\n",
    "                            sim = quandlkey.BollingerBands(stock_data['WIKI/{} - Adj. Close'.format(stock)].loc[start:end], \n",
    "                                           window=window, sell_per=sell_per, buy_amt=buy_amt, width=width,\n",
    "                                            balance=initial_balance)\n",
    "                            sim.trade()\n",
    "                            base = sim.buy_and_hold()\n",
    "                            baseresults.append(base[-1])\n",
    "                            thisreturn = sim.results['Shares']*sim.stock+sim.results['Balance']\n",
    "                            myresults.append(thisreturn[-1])\n",
    "                            params.append((window, sell_per, buy_amt, width))\n",
    "                            company.append(stock)\n",
    "                            starts.append(start)\n",
    "                            ends.append(end)\n",
    "        \n",
    "                            sim_num += 1\n",
    "                        sim_num = 0\n",
    "    except:\n",
    "        pass"
   ]
  },
  {
   "cell_type": "code",
   "execution_count": 5,
   "metadata": {
    "collapsed": true
   },
   "outputs": [],
   "source": [
    "# convert params list of tuples into a DataFrmae\n",
    "params = pd.DataFrame(params, columns=['Window','SellPer','BuyAmt','Width'])"
   ]
  },
  {
   "cell_type": "code",
   "execution_count": 6,
   "metadata": {
    "collapsed": true
   },
   "outputs": [],
   "source": [
    "paramSim = pd.DataFrame({'Base':baseresults,'Maxi':myresults, 'Company':company, 'Start':starts, 'End':ends})\n",
    "paramSim = pd.concat([paramSim, params], axis=1)\n",
    "# convert dollar returns to percentages\n",
    "paramSim[['Base','Maxi']] = (paramSim[['Base','Maxi']]/initial_balance)-1 # converts dollar returns to % returns"
   ]
  },
  {
   "cell_type": "code",
   "execution_count": 7,
   "metadata": {
    "collapsed": true
   },
   "outputs": [],
   "source": [
    "paramSim.to_csv('Bollinger Simulation Results.csv')"
   ]
  },
  {
   "cell_type": "markdown",
   "metadata": {},
   "source": [
    "### Analysis\n",
    "1. What was the average return for the two strategies?\n",
    "    - Why: compares random stock investing to a strategy\n",
    "2. Did any combination of parameters reliably beat the market?\n",
    "    - Why: AAPL/GE analysis indicate that only a fraction of time my stategy beats the market. Do one of the other combinations work better? (whole point of doing this grid search)\n",
    "3. Where there any specific companies that my strategy worked on?\n",
    "    - Why: Would indicate that the strategy only works for certain types of companies.\n",
    "    - Follow up to this result would be to test on other similar companies. Another project stemming from this would be to build an algorithm that could predict when my strategy would work.\n",
    "    - Would likely need to run the simulation again and keep track of the start/end dates in order to understand the market trend that leads to success. Would actually need to get x days of data leading up to time region I perform the simulation on. So the training data would be something like 1 month of data on the data and then simulate on the following year of data. Allows to answer question, will this stock return a certain level over the next year?"
   ]
  },
  {
   "cell_type": "code",
   "execution_count": 8,
   "metadata": {
    "collapsed": true
   },
   "outputs": [],
   "source": [
    "paramSim = pd.read_csv('Bollinger Simulation Results.csv', index_col=0)"
   ]
  },
  {
   "cell_type": "markdown",
   "metadata": {},
   "source": [
    "1. What was the average return for the two strategies?\n",
    "    - Why: compares random stock investing to a strategy\n",
    "    - [Likely Need to do Wilcoxon Matched Pairs Test](http://www.biochemia-medica.com/content/comparing-groups-statistical-differences-how-choose-right-statistical-test)"
   ]
  },
  {
   "cell_type": "code",
   "execution_count": 9,
   "metadata": {},
   "outputs": [
    {
     "name": "stdout",
     "output_type": "stream",
     "text": [
      "Using matplotlib backend: Qt5Agg\n"
     ]
    },
    {
     "data": {
      "text/plain": [
       "(-3, 20)"
      ]
     },
     "execution_count": 9,
     "metadata": {},
     "output_type": "execute_result"
    }
   ],
   "source": [
    "# quick histogram, requires some serious tuning for good viz, the skew of the returns using my strategy is crazy\n",
    "# tells us what type of distribution we are dealing with which informs which measure of central tendency to use\n",
    "# for comparing the strategies\n",
    "%matplotlib\n",
    "fig, ax = plt.subplots(figsize=(16,9))\n",
    "paramSim['Base'].plot(kind='hist', ax=ax, legend=True, fontsize=20)\n",
    "paramSim['Maxi'].plot(kind='hist', bins=1000, ax=ax, legend=True, fontsize=20, alpha=0.5);\n",
    "#ax.set_ylim(0,8000)\n",
    "ax.set_xlim(-3,20)"
   ]
  },
  {
   "cell_type": "markdown",
   "metadata": {},
   "source": [
    "The distribution of the returns are interestingly shaped. The Base values are tightly centered around 0 with max and min values of 1 and -1, respectively. The Maxi data however, is highly skewed. The minimum value is -1 while the maximum value is over 1000. The median and mean investment returns are plotted below."
   ]
  },
  {
   "cell_type": "code",
   "execution_count": 10,
   "metadata": {
    "collapsed": true
   },
   "outputs": [],
   "source": [
    "def iqr(x):\n",
    "    \"\"\"x 1D array/Series\"\"\"\n",
    "    # calculate interquartile range\n",
    "    q25, q75 = np.percentile(x, 25), np.percentile(x, 75)\n",
    "    iqr = q75 - q25\n",
    "    return iqr"
   ]
  },
  {
   "cell_type": "code",
   "execution_count": 11,
   "metadata": {},
   "outputs": [
    {
     "name": "stdout",
     "output_type": "stream",
     "text": [
      "Using matplotlib backend: Qt5Agg\n"
     ]
    }
   ],
   "source": [
    "%matplotlib\n",
    "# calculate interquartile range\n",
    "iqr_b = iqr(paramSim['Base'])\n",
    "iqr_m = iqr(paramSim['Maxi'])\n",
    "f, a = plt.subplots(figsize=(16,9))\n",
    "paramSim[['Base','Maxi']].median().plot(kind='bar', yerr=[iqr_b,iqr_m], ax=a,\n",
    "                                      fontsize=20, rot=0)\n",
    "a.set_title('Median Investment Return', fontsize=20)\n",
    "a.set_ylabel('% Return/100', fontsize=20)\n",
    "a.set_xlabel('Strategy', fontsize=20)\n",
    "a.text(0.1,.05,'{:.3f}%'.format(paramSim['Base'].median()*100), fontdict={'fontsize':20})\n",
    "a.text(1.05,.05,'{:.3f}%'.format(paramSim['Maxi'].median()*100), fontdict={'fontsize':20});"
   ]
  },
  {
   "cell_type": "code",
   "execution_count": 12,
   "metadata": {},
   "outputs": [
    {
     "name": "stdout",
     "output_type": "stream",
     "text": [
      "Using matplotlib backend: Qt5Agg\n"
     ]
    }
   ],
   "source": [
    "%matplotlib\n",
    "f, a = plt.subplots(figsize=(16,9))\n",
    "paramSim[['Base','Maxi']].mean().plot(kind='bar', yerr=paramSim[['Base','Maxi']].sem(), ax=a,\n",
    "                                      fontsize=20, rot=0)\n",
    "a.set_title('Mean Investment Return', fontsize=20)\n",
    "a.set_ylabel('% Return/100', fontsize=20)\n",
    "a.set_xlabel('Strategy', fontsize=20)\n",
    "a.text(0-.045,0.3,'{:.2f}%'.format(paramSim['Base'].mean()*100), fontdict={'fontsize':20})\n",
    "a.text(.95,3.0,'{:.2f}%'.format(paramSim['Maxi'].mean()*100), fontdict={'fontsize':20});"
   ]
  },
  {
   "cell_type": "markdown",
   "metadata": {},
   "source": [
    "Since the distributions do not look normal, we'll compare the returns from each method using the Wilcoxon signed-rank test. This test is a non-parametric version of the paired t-test. We are using the paired t-test because we care about the difference between the two strategie for each observation."
   ]
  },
  {
   "cell_type": "code",
   "execution_count": 13,
   "metadata": {
    "collapsed": true
   },
   "outputs": [],
   "source": [
    "from scipy.stats import wilcoxon\n",
    "from scipy import stats\n",
    "from scipy.stats import distributions"
   ]
  },
  {
   "cell_type": "code",
   "execution_count": 14,
   "metadata": {},
   "outputs": [
    {
     "name": "stdout",
     "output_type": "stream",
     "text": [
      "10410007282.5 0.0 -231.195824242\n"
     ]
    }
   ],
   "source": [
    "def wilcoxon_(x, y=None, zero_method=\"wilcox\", correction=False):\n",
    "    \"\"\"\n",
    "    Calculate the Wilcoxon signed-rank test.\n",
    "    The Wilcoxon signed-rank test tests the null hypothesis that two\n",
    "    related paired samples come from the same distribution. In particular,\n",
    "    it tests whether the distribution of the differences x - y is symmetric\n",
    "    about zero. It is a non-parametric version of the paired T-test.\n",
    "    Parameters\n",
    "    ----------\n",
    "    x : array_like\n",
    "        The first set of measurements.\n",
    "    y : array_like, optional\n",
    "        The second set of measurements.  If `y` is not given, then the `x`\n",
    "        array is considered to be the differences between the two sets of\n",
    "        measurements.\n",
    "    zero_method : string, {\"pratt\", \"wilcox\", \"zsplit\"}, optional\n",
    "        \"pratt\":\n",
    "            Pratt treatment: includes zero-differences in the ranking process\n",
    "            (more conservative)\n",
    "        \"wilcox\":\n",
    "            Wilcox treatment: discards all zero-differences\n",
    "        \"zsplit\":\n",
    "            Zero rank split: just like Pratt, but spliting the zero rank\n",
    "            between positive and negative ones\n",
    "    correction : bool, optional\n",
    "        If True, apply continuity correction by adjusting the Wilcoxon rank\n",
    "        statistic by 0.5 towards the mean value when computing the\n",
    "        z-statistic.  Default is False.\n",
    "    Returns\n",
    "    -------\n",
    "    T : float\n",
    "        The sum of the ranks of the differences above or below zero, whichever\n",
    "        is smaller.\n",
    "    p-value : float\n",
    "        The two-sided p-value for the test.\n",
    "    Notes\n",
    "    -----\n",
    "    Because the normal approximation is used for the calculations, the\n",
    "    samples used should be large.  A typical rule is to require that\n",
    "    n > 20.\n",
    "    References\n",
    "    ----------\n",
    "    .. [1] http://en.wikipedia.org/wiki/Wilcoxon_signed-rank_test\n",
    "    \"\"\"\n",
    "\n",
    "    if not zero_method in [\"wilcox\", \"pratt\", \"zsplit\"]:\n",
    "        raise ValueError(\"Zero method should be either 'wilcox' \\\n",
    "                          or 'pratt' or 'zsplit'\")\n",
    "\n",
    "    if y is None:\n",
    "        d = x\n",
    "    else:\n",
    "        x, y = map(np.asarray, (x, y))\n",
    "        if len(x) != len(y):\n",
    "            raise ValueError('Unequal N in wilcoxon.  Aborting.')\n",
    "        d = x-y\n",
    "\n",
    "    if zero_method == \"wilcox\":\n",
    "        d = np.compress(np.not_equal(d, 0), d, axis=-1)  # Keep all non-zero differences\n",
    "\n",
    "    count = len(d)\n",
    "    if (count < 10):\n",
    "        warnings.warn(\"Warning: sample size too small for normal approximation.\")\n",
    "    r = stats.rankdata(abs(d))\n",
    "    r_plus = np.sum((d > 0) * r, axis=0)\n",
    "    r_minus = np.sum((d < 0) * r, axis=0)\n",
    "\n",
    "    if zero_method == \"zsplit\":\n",
    "        r_zero = np.sum((d == 0) * r, axis=0)\n",
    "        r_plus += r_zero / 2.\n",
    "        r_minus += r_zero / 2.\n",
    "\n",
    "    T = min(r_plus, r_minus)\n",
    "    mn = count*(count + 1.) * 0.25\n",
    "    se = count*(count + 1.) * (2. * count + 1.)\n",
    "\n",
    "    if zero_method == \"pratt\":\n",
    "        r = r[d != 0]\n",
    "\n",
    "    replist, repnum = stats.find_repeats(r)\n",
    "    if repnum.size != 0:\n",
    "        # Correction for repeated elements.\n",
    "        se -= 0.5 * (repnum * (repnum * repnum - 1)).sum()\n",
    "\n",
    "    se = np.sqrt(se / 24)\n",
    "    correction = 0.5 * int(bool(correction)) * np.sign(T - mn)\n",
    "    z = (T - mn - correction) / se\n",
    "    prob = 2. * distributions.norm.sf(abs(z))\n",
    "    return T, prob, z\n",
    "T, p, z = wilcoxon_(paramSim['Base'],paramSim['Maxi'])\n",
    "print(T, p, z)"
   ]
  },
  {
   "cell_type": "markdown",
   "metadata": {},
   "source": [
    "Above, I modified the scipy.stats.wilcoxon function to return the Z value. This allows for the calculation of an effect size. The p-value indicates a significant effect, however, the number of samples we are dealing with is so large that the p-value is likely meaningless. We can use the Z vale to calculate the [effect size](https://stats.stackexchange.com/questions/133077/effect-size-to-wilcoxon-signed-rank-test)."
   ]
  },
  {
   "cell_type": "code",
   "execution_count": 15,
   "metadata": {},
   "outputs": [
    {
     "name": "stdout",
     "output_type": "stream",
     "text": [
      "Cohen's d: -0.43\n"
     ]
    }
   ],
   "source": [
    "print(\"Cohen's d: {:.2f}\".format(z/np.sqrt(len(paramSim))))"
   ]
  },
  {
   "cell_type": "markdown",
   "metadata": {},
   "source": [
    "A Cohen's d with a magnitude of 0.1 is considered a small effect size. The negative value means that there was an increase in the values in the Maxi strategy compared to the baseline strategy. These results indicate that for a given observation, the Maxi strategy gives a better return then randomly investing in a particular stock. This is driven home by considering the mode of the difference in the returns by the two strategies:"
   ]
  },
  {
   "cell_type": "code",
   "execution_count": 16,
   "metadata": {},
   "outputs": [
    {
     "data": {
      "text/plain": [
       "0.49476697531285585"
      ]
     },
     "execution_count": 16,
     "metadata": {},
     "output_type": "execute_result"
    }
   ],
   "source": [
    "# use the describe function get some basic info\n",
    "(paramSim['Maxi']-paramSim['Base']).std()"
   ]
  },
  {
   "cell_type": "markdown",
   "metadata": {
    "collapsed": true
   },
   "source": [
    "The most common difference is a 3% greater return with the Maxi strategy. Now, we need to keep in mind that the results are **highly** variable. The standard deviation of the difference in returns is roughly 2800%. It would be nice to know if there was an implemntation of the strategy that provided greater returns without nearly so much risk:\n",
    "\n",
    "- Did any combination of parameters reliably beat the market?\n",
    "    - Why: AAPL/GE analysis indicate that only a fraction of time my stategy beats the market. Do one of the other combinations work better? (whole point of doing this grid search)"
   ]
  },
  {
   "cell_type": "code",
   "execution_count": 17,
   "metadata": {},
   "outputs": [
    {
     "name": "stdout",
     "output_type": "stream",
     "text": [
      "Using matplotlib backend: Qt5Agg\n"
     ]
    },
    {
     "data": {
      "text/plain": [
       "<matplotlib.axes._subplots.AxesSubplot at 0x173d41751d0>"
      ]
     },
     "execution_count": 17,
     "metadata": {},
     "output_type": "execute_result"
    }
   ],
   "source": [
    "%matplotlib\n",
    "paramSim.groupby(['Width','SellPer','BuyAmt','Window'])[['Base','Maxi']].mean().plot(kind='bar', yerr=paramSim.groupby(['Width','SellPer','BuyAmt','Window'])[['Base','Maxi']].sem())"
   ]
  },
  {
   "cell_type": "code",
   "execution_count": 18,
   "metadata": {},
   "outputs": [
    {
     "data": {
      "text/plain": [
       "Base  count    480.000000\n",
       "      mean       0.036788\n",
       "      std        0.329296\n",
       "      min       -0.969016\n",
       "      25%       -0.095080\n",
       "      50%        0.002643\n",
       "      75%        0.160123\n",
       "      max        1.858938\n",
       "Maxi  count    480.000000\n",
       "      mean      -0.626225\n",
       "      std        0.366549\n",
       "      min       -1.009988\n",
       "      25%       -0.971957\n",
       "      50%       -0.732471\n",
       "      75%       -0.284452\n",
       "      max        0.025080\n",
       "Name: (1, 0.9, 750, 5), dtype: float64"
      ]
     },
     "execution_count": 18,
     "metadata": {},
     "output_type": "execute_result"
    }
   ],
   "source": [
    "paramSim.groupby(['Width','SellPer','BuyAmt','Window'])[['Base','Maxi']].describe().iloc[193,:]"
   ]
  },
  {
   "cell_type": "code",
   "execution_count": 19,
   "metadata": {},
   "outputs": [
    {
     "name": "stdout",
     "output_type": "stream",
     "text": [
      "Using matplotlib backend: Qt5Agg\n"
     ]
    }
   ],
   "source": [
    "%matplotlib\n",
    "paramSim[(paramSim['Width']==1)&(paramSim['SellPer']==0.9)&(paramSim['BuyAmt']==750)&(paramSim['Window']==10)]\\\n",
    "[['Base','Maxi']].hist(bins=100);"
   ]
  },
  {
   "cell_type": "markdown",
   "metadata": {},
   "source": [
    "### Question to answer, what percent of the time do you get a certain level of return?"
   ]
  },
  {
   "cell_type": "code",
   "execution_count": 20,
   "metadata": {
    "collapsed": true
   },
   "outputs": [],
   "source": [
    "paramSim['Diff'] = paramSim['Maxi'] - paramSim['Base']"
   ]
  },
  {
   "cell_type": "code",
   "execution_count": 21,
   "metadata": {},
   "outputs": [
    {
     "data": {
      "text/plain": [
       "count    480.000000\n",
       "mean      -0.663012\n",
       "std        0.528892\n",
       "min       -2.818677\n",
       "25%       -1.032265\n",
       "50%       -0.636317\n",
       "75%       -0.166210\n",
       "max        0.446653\n",
       "Name: (1, 0.9, 750, 5), dtype: float64"
      ]
     },
     "execution_count": 21,
     "metadata": {},
     "output_type": "execute_result"
    }
   ],
   "source": [
    "paramSim.groupby(['Width','SellPer','BuyAmt','Window'])['Diff'].describe().iloc[193,:]"
   ]
  },
  {
   "cell_type": "code",
   "execution_count": 22,
   "metadata": {},
   "outputs": [
    {
     "name": "stdout",
     "output_type": "stream",
     "text": [
      "Using matplotlib backend: Qt5Agg\n"
     ]
    }
   ],
   "source": [
    "%matplotlib\n",
    "paramSim[(paramSim['Width']==1)&(paramSim['SellPer']==0.9)&(paramSim['BuyAmt']==750)&(paramSim['Window']==10)]\\\n",
    "['Diff'].hist(bins=100);"
   ]
  },
  {
   "cell_type": "code",
   "execution_count": 23,
   "metadata": {},
   "outputs": [
    {
     "data": {
      "text/plain": [
       "0.36681597222222223"
      ]
     },
     "execution_count": 23,
     "metadata": {},
     "output_type": "execute_result"
    }
   ],
   "source": [
    "# how often Maxi beats Base in general\n",
    "len(paramSim[paramSim['Diff']>0])/len(paramSim)"
   ]
  },
  {
   "cell_type": "markdown",
   "metadata": {},
   "source": [
    "In general, I only beat the market 47.5% of the time (original), 45.5% in the second, larger, sim."
   ]
  },
  {
   "cell_type": "markdown",
   "metadata": {},
   "source": [
    "What is the percentage of time that Maxi beats the market with optimized parameters?"
   ]
  },
  {
   "cell_type": "code",
   "execution_count": 24,
   "metadata": {},
   "outputs": [
    {
     "name": "stdout",
     "output_type": "stream",
     "text": [
      "% time beat the market:  0.16458333333333333\n",
      "Average return:  -0.4666699999999999\n"
     ]
    }
   ],
   "source": [
    "print('% time beat the market: ', len(paramSim[(paramSim['Width']==1)\\\n",
    "             &(paramSim['SellPer']==0.9)\\\n",
    "             &(paramSim['BuyAmt']==750)\\\n",
    "             &(paramSim['Window']==10)\\\n",
    "             &(paramSim['Diff']>0)])/\\\n",
    "len(paramSim[(paramSim['Width']==1)\\\n",
    "             &(paramSim['SellPer']==0.9)\\\n",
    "             &(paramSim['BuyAmt']==750)\\\n",
    "             &(paramSim['Window']==10)]))\n",
    "print('Average return: ', paramSim[(paramSim['Width']==1)\\\n",
    "             &(paramSim['SellPer']==0.9)\\\n",
    "             &(paramSim['BuyAmt']==750)\\\n",
    "             &(paramSim['Window']==10)]['Diff'].median())"
   ]
  },
  {
   "cell_type": "markdown",
   "metadata": {},
   "source": [
    "How often is my strategy profitable?"
   ]
  },
  {
   "cell_type": "code",
   "execution_count": 25,
   "metadata": {},
   "outputs": [
    {
     "name": "stdout",
     "output_type": "stream",
     "text": [
      "% time strategy is profitable:  0.022916666666666665\n",
      "11\n"
     ]
    }
   ],
   "source": [
    "print('% time strategy is profitable: ', len(paramSim[(paramSim['Width']==1)\\\n",
    "             &(paramSim['SellPer']==0.9)\\\n",
    "             &(paramSim['BuyAmt']==750)\\\n",
    "             &(paramSim['Window']==10)\\\n",
    "             &(paramSim['Maxi']>0)])/\\\n",
    "len(paramSim[(paramSim['Width']==1)\\\n",
    "             &(paramSim['SellPer']==0.9)\\\n",
    "             &(paramSim['BuyAmt']==750)\\\n",
    "             &(paramSim['Window']==10)]))\n",
    "print(len(paramSim[(paramSim['Width']==1)\\\n",
    "             &(paramSim['SellPer']==0.9)\\\n",
    "             &(paramSim['BuyAmt']==750)\\\n",
    "             &(paramSim['Window']==10)\\\n",
    "             &(paramSim['Maxi']>0)]))"
   ]
  },
  {
   "cell_type": "markdown",
   "metadata": {},
   "source": [
    "How often does my strategy have a return of greater than 100%?"
   ]
  },
  {
   "cell_type": "code",
   "execution_count": 26,
   "metadata": {},
   "outputs": [
    {
     "name": "stdout",
     "output_type": "stream",
     "text": [
      "% time strategy has returns greater than 100%:  0.0\n"
     ]
    }
   ],
   "source": [
    "print('% time strategy has returns greater than 100%: ', len(paramSim[(paramSim['Width']==1)\\\n",
    "             &(paramSim['SellPer']==0.9)\\\n",
    "             &(paramSim['BuyAmt']==750)\\\n",
    "             &(paramSim['Window']==10)\\\n",
    "             &(paramSim['Maxi']>1)])/\\\n",
    "len(paramSim[(paramSim['Width']==1)\\\n",
    "             &(paramSim['SellPer']==0.9)\\\n",
    "             &(paramSim['BuyAmt']==750)\\\n",
    "             &(paramSim['Window']==10)]))"
   ]
  },
  {
   "cell_type": "markdown",
   "metadata": {},
   "source": [
    "The answer is that my trading stategy beats the market 92% of the time and 77.6% of the time the return is profitable! In fact is more than 100% profitable 75% of the time. More so, on average (median) I beat the market by 3152%.\n",
    "\n",
    "Next steps: What is the return broken down by company? Were the returns this high for each company? Then make some plots using the some of the companies/time frames that were tested."
   ]
  },
  {
   "cell_type": "code",
   "execution_count": 27,
   "metadata": {
    "collapsed": true
   },
   "outputs": [],
   "source": [
    "best_strategy = paramSim[(paramSim['Width']==1)&(paramSim['SellPer']==0.9)&(paramSim['BuyAmt']==750)&(paramSim['Window']==10)]"
   ]
  },
  {
   "cell_type": "code",
   "execution_count": 28,
   "metadata": {},
   "outputs": [
    {
     "data": {
      "text/html": [
       "<div>\n",
       "<style scoped>\n",
       "    .dataframe tbody tr th:only-of-type {\n",
       "        vertical-align: middle;\n",
       "    }\n",
       "\n",
       "    .dataframe tbody tr th {\n",
       "        vertical-align: top;\n",
       "    }\n",
       "\n",
       "    .dataframe thead th {\n",
       "        text-align: right;\n",
       "    }\n",
       "</style>\n",
       "<table border=\"1\" class=\"dataframe\">\n",
       "  <thead>\n",
       "    <tr style=\"text-align: right;\">\n",
       "      <th></th>\n",
       "      <th>Maxi</th>\n",
       "      <th>Base</th>\n",
       "      <th>Diff</th>\n",
       "    </tr>\n",
       "    <tr>\n",
       "      <th>Company</th>\n",
       "      <th></th>\n",
       "      <th></th>\n",
       "      <th></th>\n",
       "    </tr>\n",
       "  </thead>\n",
       "  <tbody>\n",
       "    <tr>\n",
       "      <th>AAN</th>\n",
       "      <td>-0.538594</td>\n",
       "      <td>0.253695</td>\n",
       "      <td>-0.792289</td>\n",
       "    </tr>\n",
       "    <tr>\n",
       "      <th>ACM</th>\n",
       "      <td>-0.491588</td>\n",
       "      <td>-0.007996</td>\n",
       "      <td>-0.483592</td>\n",
       "    </tr>\n",
       "    <tr>\n",
       "      <th>AE</th>\n",
       "      <td>-0.487762</td>\n",
       "      <td>0.024100</td>\n",
       "      <td>-0.511862</td>\n",
       "    </tr>\n",
       "    <tr>\n",
       "      <th>AEC</th>\n",
       "      <td>-0.028968</td>\n",
       "      <td>0.000872</td>\n",
       "      <td>-0.029840</td>\n",
       "    </tr>\n",
       "    <tr>\n",
       "      <th>AFG</th>\n",
       "      <td>-0.750762</td>\n",
       "      <td>0.228604</td>\n",
       "      <td>-0.979366</td>\n",
       "    </tr>\n",
       "    <tr>\n",
       "      <th>AFL</th>\n",
       "      <td>-0.355718</td>\n",
       "      <td>-0.025840</td>\n",
       "      <td>-0.329878</td>\n",
       "    </tr>\n",
       "    <tr>\n",
       "      <th>AMPE</th>\n",
       "      <td>-0.351338</td>\n",
       "      <td>-0.069586</td>\n",
       "      <td>-0.281753</td>\n",
       "    </tr>\n",
       "    <tr>\n",
       "      <th>BCC</th>\n",
       "      <td>-0.307845</td>\n",
       "      <td>0.088328</td>\n",
       "      <td>-0.396173</td>\n",
       "    </tr>\n",
       "    <tr>\n",
       "      <th>CAG</th>\n",
       "      <td>-0.423708</td>\n",
       "      <td>-0.055573</td>\n",
       "      <td>-0.368134</td>\n",
       "    </tr>\n",
       "    <tr>\n",
       "      <th>CHCO</th>\n",
       "      <td>-0.620697</td>\n",
       "      <td>0.192589</td>\n",
       "      <td>-0.813286</td>\n",
       "    </tr>\n",
       "    <tr>\n",
       "      <th>CNBKA</th>\n",
       "      <td>-0.498499</td>\n",
       "      <td>0.252043</td>\n",
       "      <td>-0.750543</td>\n",
       "    </tr>\n",
       "    <tr>\n",
       "      <th>CNOB</th>\n",
       "      <td>-0.572225</td>\n",
       "      <td>0.217063</td>\n",
       "      <td>-0.789288</td>\n",
       "    </tr>\n",
       "    <tr>\n",
       "      <th>CPA</th>\n",
       "      <td>-0.532056</td>\n",
       "      <td>0.202324</td>\n",
       "      <td>-0.734380</td>\n",
       "    </tr>\n",
       "    <tr>\n",
       "      <th>CR</th>\n",
       "      <td>-0.690129</td>\n",
       "      <td>0.372052</td>\n",
       "      <td>-1.062181</td>\n",
       "    </tr>\n",
       "    <tr>\n",
       "      <th>CTG</th>\n",
       "      <td>-0.387626</td>\n",
       "      <td>0.035087</td>\n",
       "      <td>-0.422713</td>\n",
       "    </tr>\n",
       "    <tr>\n",
       "      <th>CTRN</th>\n",
       "      <td>-0.466636</td>\n",
       "      <td>0.024307</td>\n",
       "      <td>-0.490943</td>\n",
       "    </tr>\n",
       "    <tr>\n",
       "      <th>DHR</th>\n",
       "      <td>-0.741084</td>\n",
       "      <td>0.132688</td>\n",
       "      <td>-0.873773</td>\n",
       "    </tr>\n",
       "    <tr>\n",
       "      <th>DOW</th>\n",
       "      <td>-0.629034</td>\n",
       "      <td>0.092524</td>\n",
       "      <td>-0.721558</td>\n",
       "    </tr>\n",
       "    <tr>\n",
       "      <th>EQR</th>\n",
       "      <td>-0.378057</td>\n",
       "      <td>-0.000768</td>\n",
       "      <td>-0.377289</td>\n",
       "    </tr>\n",
       "    <tr>\n",
       "      <th>ESS</th>\n",
       "      <td>-0.867688</td>\n",
       "      <td>-0.103589</td>\n",
       "      <td>-0.764099</td>\n",
       "    </tr>\n",
       "    <tr>\n",
       "      <th>FGL</th>\n",
       "      <td>-0.200339</td>\n",
       "      <td>0.020515</td>\n",
       "      <td>-0.220854</td>\n",
       "    </tr>\n",
       "    <tr>\n",
       "      <th>FULT</th>\n",
       "      <td>-0.536200</td>\n",
       "      <td>0.335554</td>\n",
       "      <td>-0.871754</td>\n",
       "    </tr>\n",
       "    <tr>\n",
       "      <th>GB</th>\n",
       "      <td>-0.585572</td>\n",
       "      <td>-0.244245</td>\n",
       "      <td>-0.341327</td>\n",
       "    </tr>\n",
       "    <tr>\n",
       "      <th>HSNI</th>\n",
       "      <td>-0.595135</td>\n",
       "      <td>-0.203984</td>\n",
       "      <td>-0.391151</td>\n",
       "    </tr>\n",
       "    <tr>\n",
       "      <th>IMKTA</th>\n",
       "      <td>-0.650777</td>\n",
       "      <td>-0.239215</td>\n",
       "      <td>-0.411562</td>\n",
       "    </tr>\n",
       "    <tr>\n",
       "      <th>IRF</th>\n",
       "      <td>0.000000</td>\n",
       "      <td>-0.000650</td>\n",
       "      <td>0.000650</td>\n",
       "    </tr>\n",
       "    <tr>\n",
       "      <th>IRG</th>\n",
       "      <td>-0.331219</td>\n",
       "      <td>-0.196697</td>\n",
       "      <td>-0.134522</td>\n",
       "    </tr>\n",
       "    <tr>\n",
       "      <th>KAI</th>\n",
       "      <td>-0.683415</td>\n",
       "      <td>0.503719</td>\n",
       "      <td>-1.187134</td>\n",
       "    </tr>\n",
       "    <tr>\n",
       "      <th>MON</th>\n",
       "      <td>-0.482311</td>\n",
       "      <td>0.024339</td>\n",
       "      <td>-0.506651</td>\n",
       "    </tr>\n",
       "    <tr>\n",
       "      <th>NEON</th>\n",
       "      <td>-0.392776</td>\n",
       "      <td>-0.295850</td>\n",
       "      <td>-0.096926</td>\n",
       "    </tr>\n",
       "    <tr>\n",
       "      <th>OHRP</th>\n",
       "      <td>-0.420394</td>\n",
       "      <td>-0.340425</td>\n",
       "      <td>-0.079969</td>\n",
       "    </tr>\n",
       "    <tr>\n",
       "      <th>OIS</th>\n",
       "      <td>-0.553925</td>\n",
       "      <td>-0.024495</td>\n",
       "      <td>-0.529430</td>\n",
       "    </tr>\n",
       "    <tr>\n",
       "      <th>ORLY</th>\n",
       "      <td>-0.521549</td>\n",
       "      <td>-0.266032</td>\n",
       "      <td>-0.255517</td>\n",
       "    </tr>\n",
       "    <tr>\n",
       "      <th>ORM</th>\n",
       "      <td>-0.396506</td>\n",
       "      <td>-0.010105</td>\n",
       "      <td>-0.386400</td>\n",
       "    </tr>\n",
       "    <tr>\n",
       "      <th>PFE</th>\n",
       "      <td>-0.406073</td>\n",
       "      <td>0.025205</td>\n",
       "      <td>-0.431278</td>\n",
       "    </tr>\n",
       "    <tr>\n",
       "      <th>PSMT</th>\n",
       "      <td>-0.754093</td>\n",
       "      <td>-0.050867</td>\n",
       "      <td>-0.703227</td>\n",
       "    </tr>\n",
       "    <tr>\n",
       "      <th>PTCT</th>\n",
       "      <td>-0.278669</td>\n",
       "      <td>0.534307</td>\n",
       "      <td>-0.812976</td>\n",
       "    </tr>\n",
       "    <tr>\n",
       "      <th>RCPT</th>\n",
       "      <td>-0.212718</td>\n",
       "      <td>0.239256</td>\n",
       "      <td>-0.451974</td>\n",
       "    </tr>\n",
       "    <tr>\n",
       "      <th>ROLL</th>\n",
       "      <td>-0.672010</td>\n",
       "      <td>0.261502</td>\n",
       "      <td>-0.933512</td>\n",
       "    </tr>\n",
       "    <tr>\n",
       "      <th>SAFT</th>\n",
       "      <td>-0.480250</td>\n",
       "      <td>0.089418</td>\n",
       "      <td>-0.569668</td>\n",
       "    </tr>\n",
       "    <tr>\n",
       "      <th>SLM</th>\n",
       "      <td>-0.186696</td>\n",
       "      <td>0.071875</td>\n",
       "      <td>-0.258571</td>\n",
       "    </tr>\n",
       "    <tr>\n",
       "      <th>STMP</th>\n",
       "      <td>-0.574024</td>\n",
       "      <td>0.398470</td>\n",
       "      <td>-0.972494</td>\n",
       "    </tr>\n",
       "    <tr>\n",
       "      <th>SWM</th>\n",
       "      <td>-0.383598</td>\n",
       "      <td>0.037500</td>\n",
       "      <td>-0.421097</td>\n",
       "    </tr>\n",
       "    <tr>\n",
       "      <th>TRN</th>\n",
       "      <td>-0.718180</td>\n",
       "      <td>0.059134</td>\n",
       "      <td>-0.777314</td>\n",
       "    </tr>\n",
       "    <tr>\n",
       "      <th>TRST</th>\n",
       "      <td>-0.428837</td>\n",
       "      <td>0.237259</td>\n",
       "      <td>-0.666096</td>\n",
       "    </tr>\n",
       "    <tr>\n",
       "      <th>TSN</th>\n",
       "      <td>-0.750544</td>\n",
       "      <td>0.149141</td>\n",
       "      <td>-0.899685</td>\n",
       "    </tr>\n",
       "    <tr>\n",
       "      <th>UHAL</th>\n",
       "      <td>-0.621659</td>\n",
       "      <td>-0.186456</td>\n",
       "      <td>-0.435203</td>\n",
       "    </tr>\n",
       "    <tr>\n",
       "      <th>YUM</th>\n",
       "      <td>-0.522762</td>\n",
       "      <td>0.100944</td>\n",
       "      <td>-0.623706</td>\n",
       "    </tr>\n",
       "  </tbody>\n",
       "</table>\n",
       "</div>"
      ],
      "text/plain": [
       "             Maxi      Base      Diff\n",
       "Company                              \n",
       "AAN     -0.538594  0.253695 -0.792289\n",
       "ACM     -0.491588 -0.007996 -0.483592\n",
       "AE      -0.487762  0.024100 -0.511862\n",
       "AEC     -0.028968  0.000872 -0.029840\n",
       "AFG     -0.750762  0.228604 -0.979366\n",
       "AFL     -0.355718 -0.025840 -0.329878\n",
       "AMPE    -0.351338 -0.069586 -0.281753\n",
       "BCC     -0.307845  0.088328 -0.396173\n",
       "CAG     -0.423708 -0.055573 -0.368134\n",
       "CHCO    -0.620697  0.192589 -0.813286\n",
       "CNBKA   -0.498499  0.252043 -0.750543\n",
       "CNOB    -0.572225  0.217063 -0.789288\n",
       "CPA     -0.532056  0.202324 -0.734380\n",
       "CR      -0.690129  0.372052 -1.062181\n",
       "CTG     -0.387626  0.035087 -0.422713\n",
       "CTRN    -0.466636  0.024307 -0.490943\n",
       "DHR     -0.741084  0.132688 -0.873773\n",
       "DOW     -0.629034  0.092524 -0.721558\n",
       "EQR     -0.378057 -0.000768 -0.377289\n",
       "ESS     -0.867688 -0.103589 -0.764099\n",
       "FGL     -0.200339  0.020515 -0.220854\n",
       "FULT    -0.536200  0.335554 -0.871754\n",
       "GB      -0.585572 -0.244245 -0.341327\n",
       "HSNI    -0.595135 -0.203984 -0.391151\n",
       "IMKTA   -0.650777 -0.239215 -0.411562\n",
       "IRF      0.000000 -0.000650  0.000650\n",
       "IRG     -0.331219 -0.196697 -0.134522\n",
       "KAI     -0.683415  0.503719 -1.187134\n",
       "MON     -0.482311  0.024339 -0.506651\n",
       "NEON    -0.392776 -0.295850 -0.096926\n",
       "OHRP    -0.420394 -0.340425 -0.079969\n",
       "OIS     -0.553925 -0.024495 -0.529430\n",
       "ORLY    -0.521549 -0.266032 -0.255517\n",
       "ORM     -0.396506 -0.010105 -0.386400\n",
       "PFE     -0.406073  0.025205 -0.431278\n",
       "PSMT    -0.754093 -0.050867 -0.703227\n",
       "PTCT    -0.278669  0.534307 -0.812976\n",
       "RCPT    -0.212718  0.239256 -0.451974\n",
       "ROLL    -0.672010  0.261502 -0.933512\n",
       "SAFT    -0.480250  0.089418 -0.569668\n",
       "SLM     -0.186696  0.071875 -0.258571\n",
       "STMP    -0.574024  0.398470 -0.972494\n",
       "SWM     -0.383598  0.037500 -0.421097\n",
       "TRN     -0.718180  0.059134 -0.777314\n",
       "TRST    -0.428837  0.237259 -0.666096\n",
       "TSN     -0.750544  0.149141 -0.899685\n",
       "UHAL    -0.621659 -0.186456 -0.435203\n",
       "YUM     -0.522762  0.100944 -0.623706"
      ]
     },
     "execution_count": 28,
     "metadata": {},
     "output_type": "execute_result"
    }
   ],
   "source": [
    "best_strategy.groupby('Company')[['Maxi','Base','Diff']].mean()"
   ]
  },
  {
   "cell_type": "markdown",
   "metadata": {},
   "source": [
    "It looks my strategy was equally successfule for all companies. I a couple companies SPF, JDSU, HTWR, and ARO that have much lower returns the other companies, on average. Keep in mind that those companies are still delivering 700% returns. The fact that different companies have different returns has me thinking that we could have a fun machine learning project that uses the historical stock information to predict the success of my strategy on a particular company.\n",
    "\n",
    "For now, let's take a look at a particular company and see if any thing is there."
   ]
  },
  {
   "cell_type": "code",
   "execution_count": 30,
   "metadata": {},
   "outputs": [
    {
     "data": {
      "text/html": [
       "<div>\n",
       "<style scoped>\n",
       "    .dataframe tbody tr th:only-of-type {\n",
       "        vertical-align: middle;\n",
       "    }\n",
       "\n",
       "    .dataframe tbody tr th {\n",
       "        vertical-align: top;\n",
       "    }\n",
       "\n",
       "    .dataframe thead th {\n",
       "        text-align: right;\n",
       "    }\n",
       "</style>\n",
       "<table border=\"1\" class=\"dataframe\">\n",
       "  <thead>\n",
       "    <tr style=\"text-align: right;\">\n",
       "      <th></th>\n",
       "      <th>Base</th>\n",
       "      <th>Company</th>\n",
       "      <th>End</th>\n",
       "      <th>Maxi</th>\n",
       "      <th>Start</th>\n",
       "      <th>Window</th>\n",
       "      <th>SellPer</th>\n",
       "      <th>BuyAmt</th>\n",
       "      <th>Width</th>\n",
       "      <th>Diff</th>\n",
       "    </tr>\n",
       "  </thead>\n",
       "  <tbody>\n",
       "    <tr>\n",
       "      <th>164220</th>\n",
       "      <td>-0.000155</td>\n",
       "      <td>YUM</td>\n",
       "      <td>2016-12-30</td>\n",
       "      <td>-0.199500</td>\n",
       "      <td>2016-09-12</td>\n",
       "      <td>10</td>\n",
       "      <td>0.9</td>\n",
       "      <td>750</td>\n",
       "      <td>1</td>\n",
       "      <td>-0.199346</td>\n",
       "    </tr>\n",
       "    <tr>\n",
       "      <th>164221</th>\n",
       "      <td>0.531970</td>\n",
       "      <td>YUM</td>\n",
       "      <td>2018-03-05</td>\n",
       "      <td>-0.999677</td>\n",
       "      <td>2015-08-25</td>\n",
       "      <td>10</td>\n",
       "      <td>0.9</td>\n",
       "      <td>750</td>\n",
       "      <td>1</td>\n",
       "      <td>-1.531647</td>\n",
       "    </tr>\n",
       "    <tr>\n",
       "      <th>164222</th>\n",
       "      <td>0.277920</td>\n",
       "      <td>YUM</td>\n",
       "      <td>2017-11-06</td>\n",
       "      <td>-0.978144</td>\n",
       "      <td>2015-07-06</td>\n",
       "      <td>10</td>\n",
       "      <td>0.9</td>\n",
       "      <td>750</td>\n",
       "      <td>1</td>\n",
       "      <td>-1.256064</td>\n",
       "    </tr>\n",
       "    <tr>\n",
       "      <th>164223</th>\n",
       "      <td>-0.042968</td>\n",
       "      <td>YUM</td>\n",
       "      <td>2017-01-18</td>\n",
       "      <td>0.000000</td>\n",
       "      <td>2017-01-18</td>\n",
       "      <td>10</td>\n",
       "      <td>0.9</td>\n",
       "      <td>750</td>\n",
       "      <td>1</td>\n",
       "      <td>0.042968</td>\n",
       "    </tr>\n",
       "    <tr>\n",
       "      <th>164224</th>\n",
       "      <td>0.272480</td>\n",
       "      <td>YUM</td>\n",
       "      <td>2017-11-09</td>\n",
       "      <td>-0.940048</td>\n",
       "      <td>2015-08-06</td>\n",
       "      <td>10</td>\n",
       "      <td>0.9</td>\n",
       "      <td>750</td>\n",
       "      <td>1</td>\n",
       "      <td>-1.212528</td>\n",
       "    </tr>\n",
       "    <tr>\n",
       "      <th>164225</th>\n",
       "      <td>-0.084400</td>\n",
       "      <td>YUM</td>\n",
       "      <td>2018-02-08</td>\n",
       "      <td>-0.353490</td>\n",
       "      <td>2017-11-02</td>\n",
       "      <td>10</td>\n",
       "      <td>0.9</td>\n",
       "      <td>750</td>\n",
       "      <td>1</td>\n",
       "      <td>-0.269090</td>\n",
       "    </tr>\n",
       "    <tr>\n",
       "      <th>164226</th>\n",
       "      <td>-0.035804</td>\n",
       "      <td>YUM</td>\n",
       "      <td>2017-04-19</td>\n",
       "      <td>-0.344614</td>\n",
       "      <td>2016-12-09</td>\n",
       "      <td>10</td>\n",
       "      <td>0.9</td>\n",
       "      <td>750</td>\n",
       "      <td>1</td>\n",
       "      <td>-0.308810</td>\n",
       "    </tr>\n",
       "    <tr>\n",
       "      <th>164227</th>\n",
       "      <td>0.043770</td>\n",
       "      <td>YUM</td>\n",
       "      <td>2018-03-02</td>\n",
       "      <td>-0.415290</td>\n",
       "      <td>2017-10-26</td>\n",
       "      <td>10</td>\n",
       "      <td>0.9</td>\n",
       "      <td>750</td>\n",
       "      <td>1</td>\n",
       "      <td>-0.459060</td>\n",
       "    </tr>\n",
       "    <tr>\n",
       "      <th>164228</th>\n",
       "      <td>-0.052336</td>\n",
       "      <td>YUM</td>\n",
       "      <td>2017-03-21</td>\n",
       "      <td>-0.433875</td>\n",
       "      <td>2016-07-27</td>\n",
       "      <td>10</td>\n",
       "      <td>0.9</td>\n",
       "      <td>750</td>\n",
       "      <td>1</td>\n",
       "      <td>-0.381539</td>\n",
       "    </tr>\n",
       "    <tr>\n",
       "      <th>164229</th>\n",
       "      <td>0.098961</td>\n",
       "      <td>YUM</td>\n",
       "      <td>2017-03-02</td>\n",
       "      <td>-0.562982</td>\n",
       "      <td>2016-07-07</td>\n",
       "      <td>10</td>\n",
       "      <td>0.9</td>\n",
       "      <td>750</td>\n",
       "      <td>1</td>\n",
       "      <td>-0.661943</td>\n",
       "    </tr>\n",
       "  </tbody>\n",
       "</table>\n",
       "</div>"
      ],
      "text/plain": [
       "            Base Company         End      Maxi       Start  Window  SellPer  \\\n",
       "164220 -0.000155     YUM  2016-12-30 -0.199500  2016-09-12      10      0.9   \n",
       "164221  0.531970     YUM  2018-03-05 -0.999677  2015-08-25      10      0.9   \n",
       "164222  0.277920     YUM  2017-11-06 -0.978144  2015-07-06      10      0.9   \n",
       "164223 -0.042968     YUM  2017-01-18  0.000000  2017-01-18      10      0.9   \n",
       "164224  0.272480     YUM  2017-11-09 -0.940048  2015-08-06      10      0.9   \n",
       "164225 -0.084400     YUM  2018-02-08 -0.353490  2017-11-02      10      0.9   \n",
       "164226 -0.035804     YUM  2017-04-19 -0.344614  2016-12-09      10      0.9   \n",
       "164227  0.043770     YUM  2018-03-02 -0.415290  2017-10-26      10      0.9   \n",
       "164228 -0.052336     YUM  2017-03-21 -0.433875  2016-07-27      10      0.9   \n",
       "164229  0.098961     YUM  2017-03-02 -0.562982  2016-07-07      10      0.9   \n",
       "\n",
       "        BuyAmt  Width      Diff  \n",
       "164220     750      1 -0.199346  \n",
       "164221     750      1 -1.531647  \n",
       "164222     750      1 -1.256064  \n",
       "164223     750      1  0.042968  \n",
       "164224     750      1 -1.212528  \n",
       "164225     750      1 -0.269090  \n",
       "164226     750      1 -0.308810  \n",
       "164227     750      1 -0.459060  \n",
       "164228     750      1 -0.381539  \n",
       "164229     750      1 -0.661943  "
      ]
     },
     "execution_count": 30,
     "metadata": {},
     "output_type": "execute_result"
    }
   ],
   "source": [
    "best_strategy[best_strategy['Company']=='YUM']"
   ]
  },
  {
   "cell_type": "markdown",
   "metadata": {},
   "source": [
    "The three times there was a 0% return using my strategy, the money was only invested for 9, 6, or 8 days. All the other times had huge returns. It looks like the money just needs to be held for a certain period of time.\n",
    "\n",
    "### What is the minimum amount of time the strategy needs to be used for?"
   ]
  },
  {
   "cell_type": "code",
   "execution_count": 32,
   "metadata": {},
   "outputs": [
    {
     "name": "stderr",
     "output_type": "stream",
     "text": [
      "c:\\users\\john maxi\\anaconda3\\envs\\tensorflowenv\\lib\\site-packages\\ipykernel_launcher.py:1: SettingWithCopyWarning: \n",
      "A value is trying to be set on a copy of a slice from a DataFrame.\n",
      "Try using .loc[row_indexer,col_indexer] = value instead\n",
      "\n",
      "See the caveats in the documentation: http://pandas.pydata.org/pandas-docs/stable/indexing.html#indexing-view-versus-copy\n",
      "  \"\"\"Entry point for launching an IPython kernel.\n",
      "c:\\users\\john maxi\\anaconda3\\envs\\tensorflowenv\\lib\\site-packages\\ipykernel_launcher.py:2: SettingWithCopyWarning: \n",
      "A value is trying to be set on a copy of a slice from a DataFrame.\n",
      "Try using .loc[row_indexer,col_indexer] = value instead\n",
      "\n",
      "See the caveats in the documentation: http://pandas.pydata.org/pandas-docs/stable/indexing.html#indexing-view-versus-copy\n",
      "  \n"
     ]
    }
   ],
   "source": [
    "best_strategy['Start'] = pd.to_datetime(best_strategy['Start'], format='%Y-%m-%d')\n",
    "best_strategy['Ends'] = pd.to_datetime(best_strategy['End'], format='%Y-%m-%d')"
   ]
  },
  {
   "cell_type": "code",
   "execution_count": 33,
   "metadata": {},
   "outputs": [
    {
     "data": {
      "text/plain": [
       "count                         469\n",
       "mean     278 days 21:51:02.686567\n",
       "std      254 days 17:08:45.998541\n",
       "min               0 days 00:00:00\n",
       "25%              61 days 00:00:00\n",
       "50%             204 days 00:00:00\n",
       "75%             449 days 00:00:00\n",
       "max            1026 days 00:00:00\n",
       "dtype: object"
      ]
     },
     "execution_count": 33,
     "metadata": {},
     "output_type": "execute_result"
    }
   ],
   "source": [
    "(best_strategy[best_strategy['Maxi']<=0]['Ends'] - best_strategy[best_strategy['Maxi']<=0]['Start']).describe()"
   ]
  },
  {
   "cell_type": "code",
   "execution_count": 36,
   "metadata": {},
   "outputs": [
    {
     "data": {
      "text/plain": [
       "count                          11\n",
       "mean     135 days 19:38:10.909090\n",
       "std      133 days 23:52:16.924253\n",
       "min              21 days 00:00:00\n",
       "25%              33 days 12:00:00\n",
       "50%             119 days 00:00:00\n",
       "75%             170 days 00:00:00\n",
       "max             470 days 00:00:00\n",
       "dtype: object"
      ]
     },
     "execution_count": 36,
     "metadata": {},
     "output_type": "execute_result"
    }
   ],
   "source": [
    "(best_strategy[best_strategy['Maxi']>0]['Ends'] - best_strategy[best_strategy['Maxi']>0]['Start']).describe()"
   ]
  },
  {
   "cell_type": "markdown",
   "metadata": {},
   "source": [
    "OK! Here is an interesting discovery, the simulations that were not profitable were short-term simulations, usually lasting less than 20 days. The profitable simulations usually lasted at least a year. We can deduce that on average, applying this stategy for a little less than a year would turn $1000 into into \\$32512!!!\n",
    "\n",
    "Next step is obviously to bet $1000 on this strategy using my ETrade account."
   ]
  },
  {
   "cell_type": "code",
   "execution_count": 37,
   "metadata": {
    "collapsed": true
   },
   "outputs": [],
   "source": [
    "stock_data = quandlkey.quandl_stocks('SLGN', start_date=(2015,8,25), end_date=(2016,7,26))\n",
    "sim = quandlkey.BollingerBands(stock_data['WIKI/SLGN - Adj. Close'], \n",
    "                                window=5, sell_per=.9, buy_amt=750, width=1,\n",
    "                                balance=1000)\n",
    "sim.trade()\n",
    "base = sim.buy_and_hold()"
   ]
  },
  {
   "cell_type": "code",
   "execution_count": 38,
   "metadata": {},
   "outputs": [
    {
     "name": "stdout",
     "output_type": "stream",
     "text": [
      "Using matplotlib backend: Qt5Agg\n"
     ]
    }
   ],
   "source": [
    "%matplotlib\n",
    "plt.style.use('seaborn-whitegrid')\n",
    "fig, ax = plt.subplots(figsize=(12,6))\n",
    "ax2 = ax.twinx()\n",
    "ax.plot(stock_data.index, sim.results['Balance'], label='Cash', c='g')\n",
    "ax.plot(stock_data.index, sim.results['Shares'], label='Shares', c='k')\n",
    "ax2.plot(stock_data.index, base, label='Buy and Hold', c='b')\n",
    "ax.plot(stock_data.index, sim.results['Shares']*sim.stock+sim.results['Balance'], label='My Strategy', c='r')#\n",
    "ax.legend()\n",
    "ax.set_ylabel('Account Value ($)', fontsize=20)\n",
    "ax.set_xlabel('Data', fontsize=20)\n",
    "ax.tick_params(axis = 'both', which = 'major', labelsize = 15)\n",
    "ax.set_title('Maxi Band Trading', fontsize=30);"
   ]
  },
  {
   "cell_type": "code",
   "execution_count": 77,
   "metadata": {},
   "outputs": [
    {
     "name": "stdout",
     "output_type": "stream",
     "text": [
      "Date\n",
      "2015-08-25    24.980870\n",
      "2015-08-26    24.990591\n",
      "2015-08-27    25.578662\n",
      "2015-08-28    25.602962\n",
      "2015-08-31    25.524964\n",
      "2015-09-01    24.740105\n",
      "2015-09-02    24.905852\n",
      "2015-09-03    25.261719\n",
      "2015-09-04    24.944851\n",
      "2015-09-08    25.612712\n",
      "2015-09-09    25.685835\n",
      "2015-09-10    25.422591\n",
      "2015-09-11    25.378717\n",
      "2015-09-14    25.286094\n",
      "2015-09-15    25.788208\n",
      "2015-09-16    26.129451\n",
      "2015-09-17    26.061202\n",
      "2015-09-18    25.383592\n",
      "2015-09-21    25.783333\n",
      "2015-09-22    25.266594\n",
      "2015-09-23    24.910727\n",
      "2015-09-24    24.886352\n",
      "2015-09-25    24.930226\n",
      "2015-09-28    24.983850\n",
      "2015-09-29    25.013100\n",
      "2015-09-30    25.368967\n",
      "2015-10-01    25.481090\n",
      "2015-10-02    25.832082\n",
      "2015-10-05    26.392696\n",
      "2015-10-06    26.129451\n",
      "                ...    \n",
      "2016-06-14    24.545664\n",
      "2016-06-15    24.452147\n",
      "2016-06-16    24.585039\n",
      "2016-06-17    24.722854\n",
      "2016-06-20    25.229812\n",
      "2016-06-21    25.072311\n",
      "2016-06-22    25.328251\n",
      "2016-06-23    25.712161\n",
      "2016-06-24    24.476757\n",
      "2016-06-27    24.122378\n",
      "2016-06-28    24.471835\n",
      "2016-06-29    24.466913\n",
      "2016-06-30    25.328251\n",
      "2016-07-01    25.333173\n",
      "2016-07-05    25.008325\n",
      "2016-07-06    25.372548\n",
      "2016-07-07    25.264266\n",
      "2016-07-08    25.554660\n",
      "2016-07-11    25.653098\n",
      "2016-07-12    25.810600\n",
      "2016-07-13    25.795834\n",
      "2016-07-14    25.894273\n",
      "2016-07-15    25.810600\n",
      "2016-07-18    25.800756\n",
      "2016-07-19    25.741693\n",
      "2016-07-20    25.771225\n",
      "2016-07-21    25.530050\n",
      "2016-07-22    25.707239\n",
      "2016-07-25    25.785990\n",
      "2016-07-26    25.923804\n",
      "Name: WIKI/SLGN - Adj. Close, Length: 232, dtype: float64\n"
     ]
    }
   ],
   "source": [
    "print(sim.stock)"
   ]
  }
 ],
 "metadata": {
  "kernelspec": {
   "display_name": "Python 3",
   "language": "python",
   "name": "python3"
  },
  "language_info": {
   "codemirror_mode": {
    "name": "ipython",
    "version": 3
   },
   "file_extension": ".py",
   "mimetype": "text/x-python",
   "name": "python",
   "nbconvert_exporter": "python",
   "pygments_lexer": "ipython3",
   "version": "3.5.3"
  }
 },
 "nbformat": 4,
 "nbformat_minor": 2
}
